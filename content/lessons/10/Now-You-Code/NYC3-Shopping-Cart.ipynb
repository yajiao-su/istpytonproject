{
 "cells": [
  {
   "cell_type": "markdown",
   "metadata": {},
   "source": [
    "# Now You Code 3: Shopping Cart\n",
    "\n",
    "In this program you will implement an online shopping cart using a\n",
    "Python list of dictionary.\n",
    "\n",
    "The program should start by allowing the user to enter:\n",
    "\n",
    " - Product name\n",
    " - Product price\n",
    " - Product quantity\n",
    "\n",
    "until the user enters a product name of `'checkout'`\n",
    "\n",
    "after checkout the program should show the items in the cart\n",
    "and the total amount of the order (sum of quantity times price)\n",
    "\n",
    "NOTE: Don't worry about handling bad inputs for this exercise.\n",
    "\n",
    "Example Run:\n",
    "\n",
    "```\n",
    "E-Commerce Shopping Cart\n",
    "Enter product name or 'checkout':pencil\n",
    "Enter pencil Price:0.99\n",
    "Enter pencil Quantity:10\n",
    "Enter product name or 'checkout':calculator\n",
    "Enter calculator Price:9.99\n",
    "Enter calculator Quantity:1\n",
    "Enter product name or 'checkout':checkout\n",
    "pencil 10 $0.99\n",
    "calculator 1 $9.99\n",
    "TOTAL: $19.89\n",
    "```\n",
    "\n",
    "Start out your program by writing your TODO list of steps you'll need to solve the problem!"
   ]
  },
  {
   "cell_type": "code",
   "execution_count": 1,
   "metadata": {
    "collapsed": true
   },
   "outputs": [],
   "source": [
    "# TODO: Write todo list here\n",
    "#make the list first\n",
    "#use while true loop to consider checkout\n",
    "#set items dic\n",
    "#add keys in the dic\n"
   ]
  },
  {
   "cell_type": "code",
   "execution_count": 11,
   "metadata": {
    "collapsed": false
   },
   "outputs": [
    {
     "name": "stdout",
     "output_type": "stream",
     "text": [
      "E-commerce Shopping Cart\n",
      "Enter product name or 'checkout':a\n",
      "Enter product price3\n",
      "Enter the quantity of that item:3\n",
      "Enter product name or 'checkout':checkout\n",
      "Item: a , Quantity: 3 , value $ 3.00\n",
      "Total value of cart is $9.00\n"
     ]
    }
   ],
   "source": [
    "# Write code here\n",
    "print('E-commerce Shopping Cart')\n",
    "cart=[]\n",
    "while True:\n",
    "    items={}\n",
    "    \n",
    "    product=input(\"Enter product name or 'checkout':\")\n",
    "    if product=='checkout':\n",
    "        break\n",
    "    value=float(input(\"Enter product price\"))\n",
    "    quantity=int(input('Enter the quantity of that item:'))\n",
    "    \n",
    "    items['product']=product\n",
    "    items['value']=value\n",
    "    items['quantity']=quantity\n",
    "    \n",
    "    cart.append(items)\n",
    "\n",
    "cartTotal=0\n",
    "for items in cart:\n",
    "    print('Item:',items['product'],',','Quantity:',items['quantity'],',','value','$','%.2f'%items['value'])\n",
    "    cartTotal += (items.get('quantity',1) * items.get('value',0))\n",
    "    \n",
    "print(\"Total value of cart is $%.2f\" %(cartTotal))"
   ]
  },
  {
   "cell_type": "code",
   "execution_count": null,
   "metadata": {
    "collapsed": true
   },
   "outputs": [],
   "source": []
  }
 ],
 "metadata": {
  "anaconda-cloud": {},
  "kernelspec": {
   "display_name": "Python 3",
   "language": "python",
   "name": "python3"
  },
  "language_info": {
   "codemirror_mode": {
    "name": "ipython",
    "version": 3
   },
   "file_extension": ".py",
   "mimetype": "text/x-python",
   "name": "python",
   "nbconvert_exporter": "python",
   "pygments_lexer": "ipython3",
   "version": "3.5.2"
  }
 },
 "nbformat": 4,
 "nbformat_minor": 1
}
