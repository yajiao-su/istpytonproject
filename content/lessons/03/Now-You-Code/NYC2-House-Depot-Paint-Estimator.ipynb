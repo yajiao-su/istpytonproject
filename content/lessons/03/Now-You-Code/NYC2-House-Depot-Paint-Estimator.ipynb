{
 "cells": [
  {
   "cell_type": "markdown",
   "metadata": {},
   "source": [
    "# Now You Code 2: House Depot Paint Estimator\n",
    "\n",
    "The big-box hardware store *House Depot* as contracted you to write an App to estimate the amount of paint required to paint a room. Given that 1 gallon of paint covers 400 square feet, you must output the number of paint cans required to paint a rectangular room.\n",
    "\n",
    "The program should input:\n",
    "\n",
    "- the length of the room in feet, \n",
    "- the width of the room in feet,\n",
    "- the height of the room in feet\n",
    "\n",
    "The program should output:\n",
    "\n",
    "- total area to be painted ( sum of each of the 4 walls)\n",
    "- the number of gallons of paint required to paint the room.\n",
    "\n",
    "Example:\n",
    "\n",
    "```\n",
    "Enter length of room: 12\n",
    "Enter width of room: 14\n",
    "Enter height of room: 8\n",
    "Total area to be painted: 416.00\n",
    "Total gallons of paint requried: 2\n",
    "```\n",
    "\n",
    "HINT: Use the `math.ceil()` function to round your number of gallons up to the nearest whole number \n",
    "\n",
    "\n",
    "**Start out your program by writing your TODO list of steps you'll need to solve the problems.**\n"
   ]
  },
  {
   "cell_type": "code",
   "execution_count": 3,
   "metadata": {
    "collapsed": false
   },
   "outputs": [],
   "source": [
    "# To-Do list here\n",
    "#Enter length of room\n",
    "#Enter width of room\n",
    "#Enter height of room\n",
    "#Total equation:Enter the equation: Length*Height*2+Height*Width*2\n",
    "#Equation of Total gallons: (Total area/400)\n",
    "#Total gallons= math.ceil(Total gallons)\n",
    "#print"
   ]
  },
  {
   "cell_type": "code",
   "execution_count": 2,
   "metadata": {
    "collapsed": false
   },
   "outputs": [
    {
     "name": "stdout",
     "output_type": "stream",
     "text": [
      "Enter the length of room here in feet:12\n",
      "Enter the width of room here in feet:14\n",
      "Enter the height of room here in feet:8\n",
      "Total area is 416.00\n",
      "Total gallons is 2\n"
     ]
    }
   ],
   "source": [
    "import math # you need this to use math.ceil() \n",
    "# Code Here\n",
    "Length=float(input(\"Enter the length of room here in feet:\"))\n",
    "Width=float(input(\"Enter the width of room here in feet:\"))\n",
    "Height=float(input(\"Enter the height of room here in feet:\"))\n",
    "Total_area=(Length*Height*2+Height*Width*2)\n",
    "print(\"Total area is %.2f\" %(Total_area))\n",
    "Total_gallons=(Total_area/400)\n",
    "Total_gallons=math.ceil(Total_gallons)\n",
    "print(\"Total gallons is\",Total_gallons)\n"
   ]
  },
  {
   "cell_type": "code",
   "execution_count": null,
   "metadata": {
    "collapsed": true
   },
   "outputs": [],
   "source": []
  }
 ],
 "metadata": {
  "anaconda-cloud": {},
  "kernelspec": {
   "display_name": "Python 3",
   "language": "python",
   "name": "python3"
  },
  "language_info": {
   "codemirror_mode": {
    "name": "ipython",
    "version": 3
   },
   "file_extension": ".py",
   "mimetype": "text/x-python",
   "name": "python",
   "nbconvert_exporter": "python",
   "pygments_lexer": "ipython3",
   "version": "3.5.2"
  }
 },
 "nbformat": 4,
 "nbformat_minor": 0
}
