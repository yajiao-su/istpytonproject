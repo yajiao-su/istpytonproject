{
 "cells": [
  {
   "cell_type": "markdown",
   "metadata": {},
   "source": [
    "# Now You Code 2: Paint Pricing\n",
    "\n",
    "House Depot, a big-box hardware retailer, has contracted you to create an app to calculate paint prices. \n",
    "\n",
    "The price of paint is determined by the following factors:\n",
    "\n",
    "- Everyday quality paint is $19.99 / gallon.\n",
    "- Select quality paint is $24.99 / gallon.\n",
    "- Premium quality paint is $32.99 / gallon.\n",
    "\n",
    "In addition if the customer wants computerized color-matching that incurs an additional fee of $4.99 per gallon. \n",
    "\n",
    "Write a program to ask the user to select a paint quality: 'everyday', 'select' or 'premium' and then whether they need color matching and then outputs the price per gallon of the paint.\n",
    "\n",
    "Example Run 1:\n",
    "\n",
    "```\n",
    "Which paint quality do you require ['everyday', 'select', 'premium'] ?select\n",
    "Do you require color matching [y/n] ?y\n",
    "Total price of select paint with color matching is $29.98\n",
    "```\n",
    "\n",
    "Example Run 2:\n",
    "\n",
    "```\n",
    "Which paint quality do you require ['everyday', 'select', 'premium'] ?premium\n",
    "Do you require color matching [y/n] ?n\n",
    "Total price of premium paint without color matching is $32.99\n",
    "```\n",
    "\n",
    "\n",
    "Make sure to write your To-do list before coding the program."
   ]
  },
  {
   "cell_type": "code",
   "execution_count": 1,
   "metadata": {
    "collapsed": true
   },
   "outputs": [],
   "source": [
    "# TODO List Here\n",
    "#Enter the paint quality\n",
    "#Whether need color matching or not\n",
    "#Equation Paint quality+color matching\n",
    "#Total price\n"
   ]
  },
  {
   "cell_type": "code",
   "execution_count": 16,
   "metadata": {
    "collapsed": false
   },
   "outputs": [
    {
     "name": "stdout",
     "output_type": "stream",
     "text": [
      "Enter the paint quality you want here:('everyday','select',or'premium'):hi\n",
      "Enter yes or no here:ha\n",
      "it's not an option!\n"
     ]
    }
   ],
   "source": [
    "paint_quality=input(\"Enter the paint quality you want here:('everyday','select',or'premium'):\")\n",
    "color_matching=input(\"Enter yes or no here:\")\n",
    "if paint_quality==\"everyday\" and color_matching==\"yes\":\n",
    "    total_price=float(19.99+4.99)\n",
    "    print(\"total price of everyday paint with color matching is $%.2f\" %(total_price))\n",
    "elif color_matching==\"no\":\n",
    "    print(\"total price of everyday paint without color matching is $19.99\")\n",
    "elif paint_quality==\"select\" and color_matching==\"yes\":\n",
    "    total_price=float(24.99+4.99)\n",
    "    print(\"total price is of select paint with color matching is $%.2f\" %(total_price))\n",
    "elif color_matching==\"no\":\n",
    "    print(\"total price of select paint without color matching is $24.99\")\n",
    "elif paint_quality==\"premium\" and color_matching==\"yes\":\n",
    "    total_price=float(32.99+4.99)\n",
    "    print(\"total price of premium with color matching is $%.2\" %(total_price))\n",
    "elif color_matching==\"no\":\n",
    "    print(\"total price of premium without color matching is $32.99\")\n",
    "else:\n",
    "    print(\"it's not an option!\")\n",
    "\n",
    "    "
   ]
  },
  {
   "cell_type": "code",
   "execution_count": null,
   "metadata": {
    "collapsed": true
   },
   "outputs": [],
   "source": []
  }
 ],
 "metadata": {
  "anaconda-cloud": {},
  "kernelspec": {
   "display_name": "Python 3",
   "language": "python",
   "name": "python3"
  },
  "language_info": {
   "codemirror_mode": {
    "name": "ipython",
    "version": 3
   },
   "file_extension": ".py",
   "mimetype": "text/x-python",
   "name": "python",
   "nbconvert_exporter": "python",
   "pygments_lexer": "ipython3",
   "version": "3.5.2"
  }
 },
 "nbformat": 4,
 "nbformat_minor": 0
}
