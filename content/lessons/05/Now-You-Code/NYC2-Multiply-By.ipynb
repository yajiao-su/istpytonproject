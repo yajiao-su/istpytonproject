{
 "cells": [
  {
   "cell_type": "markdown",
   "metadata": {},
   "source": [
    "# Now You Code 2: Multiply By\n",
    "\n",
    "Write a program to ask for a number to multiply by and then lists the multiplication table for that number from 1 to 10. This process will repeat until you enter quit as which point the program will exit.\n",
    "\n",
    "Example Run:\n",
    "\n",
    "```\n",
    "Enter number to multiply by or type 'quit': 10\n",
    "1 x 10 = 10\n",
    "2 x 10 = 20\n",
    "3 x 10 = 30\n",
    "4 x 10 = 40\n",
    "5 x 10 = 50\n",
    "6 x 10 = 60\n",
    "7 x 10 = 70\n",
    "8 x 10 = 80\n",
    "9 x 10 = 90\n",
    "10 x 10 = 100\n",
    "Enter number to multiply by or type 'quit': 5\n",
    "1 x 5 = 5\n",
    "2 x 5 = 10\n",
    "3 x 5 = 15\n",
    "4 x 5 = 20\n",
    "5 x 5 = 25\n",
    "6 x 5 = 30\n",
    "7 x 5 = 35\n",
    "8 x 5 = 40\n",
    "9 x 5 = 45\n",
    "10 x 5 = 50\n",
    "Enter number to multiply by or type 'quit': quit\n",
    "```\n",
    "\n",
    "**NOTE:** you need two loops to complete this program. You'll need an indefinite loop to process the input, and a definite loop to print the multiplication table. We suggest starting out by getting the program to work once and then figuring out the exit condition for the indefinite loop. "
   ]
  },
  {
   "cell_type": "code",
   "execution_count": 1,
   "metadata": {
    "collapsed": true
   },
   "outputs": [],
   "source": [
    "#Write TODO list here\n",
    "#write count\n",
    "#increment by one each time\n",
    "#set a variable for the other factor(input type number or type quit)\n",
    "# mulitiply the two factors \n",
    "\n"
   ]
  },
  {
   "cell_type": "code",
   "execution_count": 2,
   "metadata": {
    "collapsed": false
   },
   "outputs": [
    {
     "name": "stdout",
     "output_type": "stream",
     "text": [
      "Enter number to multiply by or type 'quit': 10\n",
      "1 x 10 = 10\n",
      "2 x 10 = 20\n",
      "3 x 10 = 30\n",
      "4 x 10 = 40\n",
      "5 x 10 = 50\n",
      "6 x 10 = 60\n",
      "7 x 10 = 70\n",
      "8 x 10 = 80\n",
      "9 x 10 = 90\n",
      "10 x 10 = 100\n",
      "Enter number to multiply by or type 'quit': 5\n",
      "1 x 5 = 5\n",
      "2 x 5 = 10\n",
      "3 x 5 = 15\n",
      "4 x 5 = 20\n",
      "5 x 5 = 25\n",
      "6 x 5 = 30\n",
      "7 x 5 = 35\n",
      "8 x 5 = 40\n",
      "9 x 5 = 45\n",
      "10 x 5 = 50\n",
      "Enter number to multiply by or type 'quit': quit\n"
     ]
    }
   ],
   "source": [
    "#\n"
   ]
  },
  {
   "cell_type": "code",
   "execution_count": null,
   "metadata": {
    "collapsed": false
   },
   "outputs": [
    {
     "name": "stdout",
     "output_type": "stream",
     "text": [
      "Enter number to multiple or type 'quit'jk\n",
      "That's not a number\n",
      "Enter number to multiple or type 'quit'ejil\n",
      "That's not a number\n",
      "Enter number to multiple or type 'quit'99\n",
      "1 x 99 = 99\n",
      "2 x 99 = 198\n",
      "3 x 99 = 297\n",
      "4 x 99 = 396\n",
      "5 x 99 = 495\n",
      "6 x 99 = 594\n",
      "7 x 99 = 693\n",
      "8 x 99 = 792\n",
      "9 x 99 = 891\n",
      "10 x 99 = 990\n",
      "Enter number to multiple or type 'quit'990\n",
      "1 x 990 = 990\n",
      "2 x 990 = 1980\n",
      "3 x 990 = 2970\n",
      "4 x 990 = 3960\n",
      "5 x 990 = 4950\n",
      "6 x 990 = 5940\n",
      "7 x 990 = 6930\n",
      "8 x 990 = 7920\n",
      "9 x 990 = 8910\n",
      "10 x 990 = 9900\n",
      "Enter number to multiple or type 'quit'3\n",
      "1 x 3 = 3\n",
      "2 x 3 = 6\n",
      "3 x 3 = 9\n",
      "4 x 3 = 12\n",
      "5 x 3 = 15\n",
      "6 x 3 = 18\n",
      "7 x 3 = 21\n",
      "8 x 3 = 24\n",
      "9 x 3 = 27\n",
      "10 x 3 = 30\n"
     ]
    }
   ],
   "source": [
    "count=0\n",
    "product=0\n",
    "while True:\n",
    "    try:\n",
    "        count+=1\n",
    "        number=input(\"Enter number to multiple or type 'quit'\")\n",
    "        if number=='quit':\n",
    "            break\n",
    "        number=int(number)\n",
    "        for count in range (1,11):\n",
    "            product=count*number\n",
    "            print(count,\"x\",number,\"=\",product)\n",
    "    except:\n",
    "        print(\"That's not a number\")\n",
    "        "
   ]
  },
  {
   "cell_type": "code",
   "execution_count": null,
   "metadata": {
    "collapsed": true
   },
   "outputs": [],
   "source": []
  }
 ],
 "metadata": {
  "anaconda-cloud": {},
  "kernelspec": {
   "display_name": "Python 3",
   "language": "python",
   "name": "python3"
  },
  "language_info": {
   "codemirror_mode": {
    "name": "ipython",
    "version": 3
   },
   "file_extension": ".py",
   "mimetype": "text/x-python",
   "name": "python",
   "nbconvert_exporter": "python",
   "pygments_lexer": "ipython3",
   "version": "3.5.2"
  }
 },
 "nbformat": 4,
 "nbformat_minor": 0
}
