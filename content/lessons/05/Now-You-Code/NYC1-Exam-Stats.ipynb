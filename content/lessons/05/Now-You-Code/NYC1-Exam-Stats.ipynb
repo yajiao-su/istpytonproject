{
 "cells": [
  {
   "cell_type": "markdown",
   "metadata": {},
   "source": [
    "# Now You Code 1: Exam Stats\n",
    "\n",
    "Write a program to input exam scores (out of 100) until you enter 'quit'. After you finish entering exam scores the program will print out the average of all the exam scores.\n",
    "\n",
    "**HINTS:** \n",
    "\n",
    "- To figure out the average you must keep a running total of exam scores and a count of the number entered.\n",
    "- Try to make the program work 1 time, then figure out the exit condition and use a while True: loop.\n",
    "\n",
    "Example Run:\n",
    "\n",
    "```\n",
    "Enter exam score or type 'quit': 100\n",
    "Enter exam score or type 'quit': 100\n",
    "Enter exam score or type 'quit': 50\n",
    "Enter exam score or type 'quit': quit\n",
    "Number of scores 3. Average is 83.33\n",
    "```"
   ]
  },
  {
   "cell_type": "code",
   "execution_count": null,
   "metadata": {
    "collapsed": true
   },
   "outputs": [],
   "source": [
    "#Write TODO list here\n",
    "#count=0\n",
    "#grade=0\n",
    "#final_grade=0\n",
    "#indefinite loop\n",
    "#enter exam score or type'quit'\n",
    "#increment score\n",
    "#Average the score\n",
    "# If count is equal to quit stop looping\n",
    "#Print exam score and count\n"
   ]
  },
  {
   "cell_type": "code",
   "execution_count": 1,
   "metadata": {
    "collapsed": false
   },
   "outputs": [
    {
     "name": "stdout",
     "output_type": "stream",
     "text": [
      "Enter your grade or type 'quit' hereddf\n",
      "Error\n",
      "Enter your grade or type 'quit' hereji\n",
      "Error\n",
      "Enter your grade or type 'quit' here44\n",
      "Enter your grade or type 'quit' here33\n",
      "Enter your grade or type 'quit' here22\n",
      "Enter your grade or type 'quit' here64\n",
      "Enter your grade or type 'quit' herequit\n",
      "Number of score is 7 Average is 27.166666666666668\n"
     ]
    }
   ],
   "source": [
    "# Write code here\n",
    "i=0\n",
    "grade=0\n",
    "total_grade=0\n",
    "\n",
    "\n",
    "while True:\n",
    "    try:\n",
    "        i=i+1        \n",
    "        grade=input(\"Enter your grade or type 'quit' here\")\n",
    "        if grade=='quit':\n",
    "            break\n",
    "        grade=float(grade)\n",
    "        total_grade=grade+float(total_grade)\n",
    "        average_grade=total_grade/i            \n",
    "    except:\n",
    "        print(\"Error\")\n",
    "print(\"Number of score is\",i,\"Average is\",average_grade)"
   ]
  },
  {
   "cell_type": "code",
   "execution_count": null,
   "metadata": {
    "collapsed": true
   },
   "outputs": [],
   "source": []
  }
 ],
 "metadata": {
  "anaconda-cloud": {},
  "kernelspec": {
   "display_name": "Python 3",
   "language": "python",
   "name": "python3"
  },
  "language_info": {
   "codemirror_mode": {
    "name": "ipython",
    "version": 3
   },
   "file_extension": ".py",
   "mimetype": "text/x-python",
   "name": "python",
   "nbconvert_exporter": "python",
   "pygments_lexer": "ipython3",
   "version": "3.5.2"
  }
 },
 "nbformat": 4,
 "nbformat_minor": 0
}
