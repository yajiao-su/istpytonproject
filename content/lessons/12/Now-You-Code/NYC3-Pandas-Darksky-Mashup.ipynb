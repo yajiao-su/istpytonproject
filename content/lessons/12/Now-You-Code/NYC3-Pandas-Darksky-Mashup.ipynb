{
 "cells": [
  {
   "cell_type": "markdown",
   "metadata": {},
   "source": [
    "## Load the 7 day forecast from DarkSky.Net into Pandas!\n",
    "\n",
    "In this example you will go back to https://api.darksky.net and use your API key to get the current weather forecast for:\n",
    "\n",
    "Syrcause, NY `(lat=43.0481221, lng=-76.1474244)`\n",
    "\n",
    "In the forecast output, find the daily 7 day forecast (it's the current conditions + 7 days out == 8 days total)\n",
    "\n",
    "Extract the forecast data and load it into Pandas, then display the Time of the forecast, and high and low temperatures:\n",
    "\n",
    "**HINT**: To get the times to show up in a human-readable format, you must convert the DarkSky API time (which is in unix timestamp format) to a Pandas Timestamp date/time format. The `pd.to_datetime()` function can help you:\n",
    "\n",
    "```\n",
    "time = 1489402800 # this the time format Darksky returns\n",
    "readable_time = pd.to_datetime(time, unit='s') ## s stands for unix timestamp format\n",
    "readable_time\n",
    "\n",
    "Timestamp('2017-03-13 11:00:00')\n",
    "```\n",
    "\n",
    "Just replace the `['time']` column in the `DataFrame` with the new version."
   ]
  },
  {
   "cell_type": "code",
   "execution_count": null,
   "metadata": {
    "collapsed": false
   },
   "outputs": [],
   "source": [
    "# Todo Write Plan Here\n",
    "#get api \n",
    "#import requests\n",
    "#get url and json\n",
    "#output the data"
   ]
  },
  {
   "cell_type": "code",
   "execution_count": 2,
   "metadata": {
    "collapsed": false
   },
   "outputs": [
    {
     "data": {
      "text/html": [
       "<div>\n",
       "<table border=\"1\" class=\"dataframe\">\n",
       "  <thead>\n",
       "    <tr style=\"text-align: right;\">\n",
       "      <th></th>\n",
       "      <th>time</th>\n",
       "      <th>temperatureMax</th>\n",
       "      <th>temperatureMin</th>\n",
       "    </tr>\n",
       "  </thead>\n",
       "  <tbody>\n",
       "    <tr>\n",
       "      <th>0</th>\n",
       "      <td>2017-04-21 04:00:00</td>\n",
       "      <td>62.17</td>\n",
       "      <td>49.00</td>\n",
       "    </tr>\n",
       "    <tr>\n",
       "      <th>1</th>\n",
       "      <td>2017-04-22 04:00:00</td>\n",
       "      <td>53.81</td>\n",
       "      <td>40.39</td>\n",
       "    </tr>\n",
       "    <tr>\n",
       "      <th>2</th>\n",
       "      <td>2017-04-23 04:00:00</td>\n",
       "      <td>63.50</td>\n",
       "      <td>36.52</td>\n",
       "    </tr>\n",
       "    <tr>\n",
       "      <th>3</th>\n",
       "      <td>2017-04-24 04:00:00</td>\n",
       "      <td>65.95</td>\n",
       "      <td>37.37</td>\n",
       "    </tr>\n",
       "    <tr>\n",
       "      <th>4</th>\n",
       "      <td>2017-04-25 04:00:00</td>\n",
       "      <td>59.74</td>\n",
       "      <td>45.61</td>\n",
       "    </tr>\n",
       "    <tr>\n",
       "      <th>5</th>\n",
       "      <td>2017-04-26 04:00:00</td>\n",
       "      <td>79.12</td>\n",
       "      <td>50.28</td>\n",
       "    </tr>\n",
       "    <tr>\n",
       "      <th>6</th>\n",
       "      <td>2017-04-27 04:00:00</td>\n",
       "      <td>69.03</td>\n",
       "      <td>53.69</td>\n",
       "    </tr>\n",
       "    <tr>\n",
       "      <th>7</th>\n",
       "      <td>2017-04-28 04:00:00</td>\n",
       "      <td>75.50</td>\n",
       "      <td>52.54</td>\n",
       "    </tr>\n",
       "  </tbody>\n",
       "</table>\n",
       "</div>"
      ],
      "text/plain": [
       "                 time  temperatureMax  temperatureMin\n",
       "0 2017-04-21 04:00:00           62.17           49.00\n",
       "1 2017-04-22 04:00:00           53.81           40.39\n",
       "2 2017-04-23 04:00:00           63.50           36.52\n",
       "3 2017-04-24 04:00:00           65.95           37.37\n",
       "4 2017-04-25 04:00:00           59.74           45.61\n",
       "5 2017-04-26 04:00:00           79.12           50.28\n",
       "6 2017-04-27 04:00:00           69.03           53.69\n",
       "7 2017-04-28 04:00:00           75.50           52.54"
      ]
     },
     "execution_count": 2,
     "metadata": {},
     "output_type": "execute_result"
    }
   ],
   "source": [
    "# Todo write code here\n",
    "import requests\n",
    "import pandas as pd\n",
    "import warnings \n",
    "warnings.filterwarnings('ignore')\n",
    "url='https://api.darksky.net/forecast/3038a571280c82aa87bc9ea715500d8c/43.0481221,-76.1474244'\n",
    "response=requests.get(url)\n",
    "weather=response.json()\n",
    "daily=weather['daily']['data']\n",
    "forecast=pd.DataFrame(daily)\n",
    "time=forecast['time']\n",
    "convert=pd.to_datetime(time,unit='s')\n",
    "forecast['time']=convert\n",
    "forecast[['time','temperatureMax','temperatureMin']]"
   ]
  },
  {
   "cell_type": "code",
   "execution_count": null,
   "metadata": {
    "collapsed": true
   },
   "outputs": [],
   "source": []
  },
  {
   "cell_type": "code",
   "execution_count": 19,
   "metadata": {
    "collapsed": false
   },
   "outputs": [
    {
     "data": {
      "text/html": [
       "<div>\n",
       "<table border=\"1\" class=\"dataframe\">\n",
       "  <thead>\n",
       "    <tr style=\"text-align: right;\">\n",
       "      <th></th>\n",
       "      <th>time</th>\n",
       "      <th>temperatureMin</th>\n",
       "      <th>temperatureMax</th>\n",
       "    </tr>\n",
       "  </thead>\n",
       "  <tbody>\n",
       "    <tr>\n",
       "      <th>0</th>\n",
       "      <td>2017-03-13 04:00:00</td>\n",
       "      <td>8.74</td>\n",
       "      <td>25.01</td>\n",
       "    </tr>\n",
       "    <tr>\n",
       "      <th>1</th>\n",
       "      <td>2017-03-14 04:00:00</td>\n",
       "      <td>17.85</td>\n",
       "      <td>25.42</td>\n",
       "    </tr>\n",
       "    <tr>\n",
       "      <th>2</th>\n",
       "      <td>2017-03-15 04:00:00</td>\n",
       "      <td>15.93</td>\n",
       "      <td>22.90</td>\n",
       "    </tr>\n",
       "    <tr>\n",
       "      <th>3</th>\n",
       "      <td>2017-03-16 04:00:00</td>\n",
       "      <td>17.23</td>\n",
       "      <td>29.19</td>\n",
       "    </tr>\n",
       "    <tr>\n",
       "      <th>4</th>\n",
       "      <td>2017-03-17 04:00:00</td>\n",
       "      <td>17.25</td>\n",
       "      <td>36.15</td>\n",
       "    </tr>\n",
       "    <tr>\n",
       "      <th>5</th>\n",
       "      <td>2017-03-18 04:00:00</td>\n",
       "      <td>26.74</td>\n",
       "      <td>38.07</td>\n",
       "    </tr>\n",
       "    <tr>\n",
       "      <th>6</th>\n",
       "      <td>2017-03-19 04:00:00</td>\n",
       "      <td>25.69</td>\n",
       "      <td>32.82</td>\n",
       "    </tr>\n",
       "    <tr>\n",
       "      <th>7</th>\n",
       "      <td>2017-03-20 04:00:00</td>\n",
       "      <td>13.76</td>\n",
       "      <td>37.08</td>\n",
       "    </tr>\n",
       "  </tbody>\n",
       "</table>\n",
       "</div>"
      ],
      "text/plain": [
       "                 time  temperatureMin  temperatureMax\n",
       "0 2017-03-13 04:00:00            8.74           25.01\n",
       "1 2017-03-14 04:00:00           17.85           25.42\n",
       "2 2017-03-15 04:00:00           15.93           22.90\n",
       "3 2017-03-16 04:00:00           17.23           29.19\n",
       "4 2017-03-17 04:00:00           17.25           36.15\n",
       "5 2017-03-18 04:00:00           26.74           38.07\n",
       "6 2017-03-19 04:00:00           25.69           32.82\n",
       "7 2017-03-20 04:00:00           13.76           37.08"
      ]
     },
     "execution_count": 19,
     "metadata": {},
     "output_type": "execute_result"
    }
   ],
   "source": [
    "# Here's my output from when I ran the solution, to give you an example of what I expect"
   ]
  }
 ],
 "metadata": {
  "anaconda-cloud": {},
  "kernelspec": {
   "display_name": "Python 3",
   "language": "python",
   "name": "python3"
  },
  "language_info": {
   "codemirror_mode": {
    "name": "ipython",
    "version": 3
   },
   "file_extension": ".py",
   "mimetype": "text/x-python",
   "name": "python",
   "nbconvert_exporter": "python",
   "pygments_lexer": "ipython3",
   "version": "3.5.2"
  }
 },
 "nbformat": 4,
 "nbformat_minor": 0
}
