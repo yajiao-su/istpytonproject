{
 "cells": [
  {
   "cell_type": "markdown",
   "metadata": {},
   "source": [
    "# Now You Code 1: Number\n",
    "\n",
    "In this now you code we will learn to re-factor a program into a function. This is the most common way to write a function when you are a beginner.\n",
    "\n",
    "The way you do this is rather simple. First you write a program to solve the problem, then you re-write that program as a function and finally test the function to make sure it works as expected. \n",
    "\n",
    "This helps train you to think abstractly about problems, but leverages what you understand currently about programming.\n",
    "\n",
    "### First we write the program \n",
    "\n",
    "Write a program to take an input string and convert to a float. If the string cannot be converted to a float it returns the string \"NaN\" which means \"Not a Number\" We did this first part for you."
   ]
  },
  {
   "cell_type": "code",
   "execution_count": 3,
   "metadata": {
    "collapsed": false
   },
   "outputs": [
    {
     "name": "stdout",
     "output_type": "stream",
     "text": [
      "Enter a number: 2\n",
      "2.0\n"
     ]
    }
   ],
   "source": [
    "## STEP 1 Write the program\n",
    "text = input(\"Enter a number: \")\n",
    "try:\n",
    "    number = float(text)\n",
    "except ValueError:\n",
    "    number = \"NaN\"\n",
    "    \n",
    "print(number)"
   ]
  },
  {
   "cell_type": "markdown",
   "metadata": {},
   "source": [
    "### Next we refactor it into a function\n",
    "\n",
    "Complete this function. It should be similar to the program above, but it should not have any `input()` or `print()` functions as those are reserved for the main program. The function takes `text` as input and returns `number` as output\n"
   ]
  },
  {
   "cell_type": "code",
   "execution_count": 4,
   "metadata": {
    "collapsed": false
   },
   "outputs": [],
   "source": [
    "## Function: Number\n",
    "## Argument (input): text value\n",
    "## Returns (output): float of text value or \"NaN\"\n",
    "\n",
    "def number(text):\n",
    "    return number==float(text)\n"
   ]
  },
  {
   "cell_type": "markdown",
   "metadata": {},
   "source": [
    "### Rewrite the program to use the function\n",
    "\n",
    "Finally re-write the original program to use the new function. The program now works the same as STEP1 but it now uses a function!"
   ]
  },
  {
   "cell_type": "code",
   "execution_count": 2,
   "metadata": {
    "collapsed": false
   },
   "outputs": [
    {
     "name": "stdout",
     "output_type": "stream",
     "text": [
      "Enter a number:fe\n",
      "NaN\n"
     ]
    }
   ],
   "source": [
    "## TODO Write the original program, but call the new function\n",
    "text=input(\"Enter a number:\")\n",
    "def number(text):\n",
    "    try:\n",
    "        number=float(text)\n",
    "        return number\n",
    "    except ValueError:\n",
    "            number=\"NaN\"\n",
    "    return number\n",
    "print(number(text))\n",
    "\n",
    "\n",
    "\n",
    "\n",
    "\n"
   ]
  },
  {
   "cell_type": "code",
   "execution_count": null,
   "metadata": {
    "collapsed": false
   },
   "outputs": [],
   "source": []
  },
  {
   "cell_type": "code",
   "execution_count": null,
   "metadata": {
    "collapsed": true
   },
   "outputs": [],
   "source": []
  }
 ],
 "metadata": {
  "anaconda-cloud": {},
  "kernelspec": {
   "display_name": "Python 3",
   "language": "python",
   "name": "python3"
  },
  "language_info": {
   "codemirror_mode": {
    "name": "ipython",
    "version": 3
   },
   "file_extension": ".py",
   "mimetype": "text/x-python",
   "name": "python",
   "nbconvert_exporter": "python",
   "pygments_lexer": "ipython3",
   "version": "3.5.2"
  }
 },
 "nbformat": 4,
 "nbformat_minor": 0
}
