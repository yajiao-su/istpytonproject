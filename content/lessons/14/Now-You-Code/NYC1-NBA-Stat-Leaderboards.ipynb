{
 "cells": [
  {
   "cell_type": "markdown",
   "metadata": {},
   "source": [
    "# Now You Code 1: NBA Stat Leaderboards\n",
    "\n",
    "Get the current leader of each stat provided by http://www.espn.com/nba/statistics and print the stat title and the list of player in order.\n",
    "\n",
    "ex:\n",
    "```\n",
    "Offensive Leaders:\n",
    "Name                              ppg\n",
    "1. Russell Westbrook, OKC\t     31.4\n",
    "2. Anthony Davis, NO\t          28.6\n",
    "3. DeMarcus Cousins, SAC\t      28.5\n",
    "4. James Harden, HOU\t          27.9\n",
    "5. Isaiah Thomas, BOS\t         27.7\n",
    "```\n",
    "\n",
    "Suggested approach:\n",
    "- Use requests to download the page html\n",
    "- Use BeautifulSoup to extract the data\n",
    "- Create a function to process each stat box.\n",
    "- Loop through each stat box and process the stat\n",
    "- Use string format functions to format the output\n"
   ]
  },
  {
   "cell_type": "code",
   "execution_count": 1,
   "metadata": {
    "collapsed": false
   },
   "outputs": [
    {
     "name": "stdout",
     "output_type": "stream",
     "text": [
      "POINTS                                            PPG\n",
      "1. Russell Westbrook, OKC                         37.4\n",
      "2. LeBron James, CLE                              34.2\n",
      "3. Kawhi Leonard, SA                              30.3\n",
      "4. John Wall, WSH                                 29.6\n",
      "5. James Harden, HOU                              28.4\n",
      "-------------------------------------------------------\n",
      "ASSISTS                                           APG\n",
      "1. John Wall, WSH                                 11.4\n",
      "2. Russell Westbrook, OKC                         10.8\n",
      "3. Chris Paul, LAC                                9.9\n",
      "4. James Harden, HOU                              8.4\n",
      "5. Dennis Schroder, ATL                           7.7\n",
      "-------------------------------------------------------\n",
      "FIELD GOAL %                                      FG%\n",
      "1. Nene Hilario, HOU                              .791\n",
      "2. JaVale McGee, GS                               .760\n",
      "3. DeAndre Jordan, LAC                            .705\n",
      "4. Robin Lopez, CHI                               .654\n",
      "5. Al Horford, BOS                                .631\n",
      "-------------------------------------------------------\n",
      "REBOUNDS                                          RPG\n",
      "1. DeAndre Jordan, LAC                            14.4\n",
      "2. Russell Westbrook, OKC                         11.6\n",
      "3. Tristan Thompson, CLE                          11.2\n",
      "4. Marcin Gortat, WSH                             10.9\n",
      "5. Dwight Howard, ATL                             10.7\n",
      "-------------------------------------------------------\n",
      "BLOCKS                                            BLKPG\n",
      "1. Draymond Green, GS                             3.80\n",
      "2. Andre Roberson, OKC                            3.40\n",
      "3. Clint Capela, HOU                              2.43\n",
      "4. Marcin Gortat, WSH                             2.13\n",
      "5. JaVale McGee, GS                               2.00\n",
      "-------------------------------------------------------\n",
      "STEALS                                            STPG\n",
      "1. LeBron James, CLE                              2.67\n",
      "2. Andre Roberson, OKC                            2.40\n",
      "3. Russell Westbrook, OKC                         2.40\n",
      "4. Giannis Antetokounmpo, MIL                     2.17\n",
      "5. Bradley Beal, WSH                              2.00\n",
      "-------------------------------------------------------\n"
     ]
    }
   ],
   "source": [
    "import requests\n",
    "from bs4 import BeautifulSoup\n",
    "\n",
    "html = requests.get('http://www.espn.com/nba/statistics').text\n",
    "soup = BeautifulSoup(html, 'lxml')\n",
    "boxes = soup.select('#my-players-table .span-2 .mod-container')\n",
    "for box in boxes:\n",
    "    for row in box.select('table tr'):\n",
    "        items = row.find_all('td')\n",
    "        if len(items) > 2:\n",
    "            items = items[1:]\n",
    "        if len(items) > 1:\n",
    "            print('{:50}{}'.format(items[0].get_text(), items[1].get_text()))\n",
    "    print('-' * 55)"
   ]
  },
  {
   "cell_type": "code",
   "execution_count": null,
   "metadata": {
    "collapsed": true
   },
   "outputs": [],
   "source": []
  }
 ],
 "metadata": {
  "kernelspec": {
   "display_name": "Python 3",
   "language": "python",
   "name": "python3"
  },
  "language_info": {
   "codemirror_mode": {
    "name": "ipython",
    "version": 3
   },
   "file_extension": ".py",
   "mimetype": "text/x-python",
   "name": "python",
   "nbconvert_exporter": "python",
   "pygments_lexer": "ipython3",
   "version": "3.5.2"
  }
 },
 "nbformat": 4,
 "nbformat_minor": 0
}
