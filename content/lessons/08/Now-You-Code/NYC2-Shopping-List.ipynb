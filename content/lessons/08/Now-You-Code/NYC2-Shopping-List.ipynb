{
 "cells": [
  {
   "cell_type": "markdown",
   "metadata": {},
   "source": [
    "# Now You Code 2: Shopping List\n",
    "\n",
    "Write a program to input a list of grocery items for your shopping list and then writes them to a file a line at a time.  The program should keep asking you to enter grocery items until you type `'done'`.\n",
    "\n",
    "After you complete the list, the program should then load the file and read the list back to you by printing each item out.\n",
    "\n",
    "Sample Run:\n",
    "\n",
    "```\n",
    "Let's make a shopping list. Type 'done' when you're finished:\n",
    "Enter Item: milk\n",
    "Enter Item: cheese\n",
    "Enter Item: eggs\n",
    "Enter Item: beer\n",
    "Enter Item: apples\n",
    "Enter Item: done\n",
    "Your shopping list:\n",
    "milk\n",
    "cheese\n",
    "eggs\n",
    "beer\n",
    "apples\n",
    "```\n",
    "\n",
    "As usual, first write out your TO-DO list plan for the program before you write any code.\n"
   ]
  },
  {
   "cell_type": "code",
   "execution_count": null,
   "metadata": {
    "collapsed": true
   },
   "outputs": [],
   "source": [
    "## TODO list for program\n",
    "#connect to the file\n",
    "#use file.write to write the argument\n",
    "#input the item\n",
    "#loop ens while done\n"
   ]
  },
  {
   "cell_type": "code",
   "execution_count": 26,
   "metadata": {
    "collapsed": false
   },
   "outputs": [
    {
     "name": "stdout",
     "output_type": "stream",
     "text": [
      "Enter your shooping item hereapple\n",
      "Enter your shooping item heredone\n",
      "Your shopping list:\n",
      "apple\n",
      "\n"
     ]
    }
   ],
   "source": [
    "filename=\"NYC2-shopping-list.txt\"\n",
    "count=0\n",
    "with open(filename,'w+')as f:\n",
    "    f.write('')\n",
    "    while True:\n",
    "        text=str(input(\"Enter your shooping item here\"))\n",
    "        if text.lower()=='done':\n",
    "            break\n",
    "        else:\n",
    "            with open(filename,'a')as f:\n",
    "                f.write(\"%s\\n\"%text)\n",
    "print(\"Your shopping list:\")\n",
    "with open(filename,'r')as f:\n",
    "    print(f.read())\n",
    "    \n",
    "\n",
    "   "
   ]
  },
  {
   "cell_type": "code",
   "execution_count": 1,
   "metadata": {
    "collapsed": false
   },
   "outputs": [
    {
     "name": "stdout",
     "output_type": "stream",
     "text": [
      "Enter your sentence here to detect the sentiment scorei love you bad good sad\n",
      "Your sentiment score is 2,and your state is positive\n",
      "Enter your sentence here to detect the sentiment scorequit\n"
     ]
    }
   ],
   "source": [
    "def load_words(filename):\n",
    "    with open(filename,'r') as f:\n",
    "        return(f.read().split(' '))\n",
    "def sentiment(positive_text,negative_text,input_text):\n",
    "    each_word=input_text.split(' ')\n",
    "    list_symbol=(' ', '!', '@', '$', '%', '^', '&', '*', '()', '_', '-', '+', '=', '{}', '[]')\n",
    "    score=0\n",
    "    for i in range(len(each_word)):\n",
    "        if each_word[i].endswith(list_symbol)==True:\n",
    "            each_word[i]=each_word[i][0:(len(each_word[i])-1)]\n",
    "        if each_word[i] in positive_text:\n",
    "            score=score+1\n",
    "        if each_word[i] in negative_text:\n",
    "            score=score-1\n",
    "        elif each_word[i].startswith(list_symbol)==True:\n",
    "            each_word[i]=each_word[i][1:(len(each_word[i]))]\n",
    "            if each_word[i] in positive_text:\n",
    "                score=score+1\n",
    "            if each_word[i] in negative_text:\n",
    "                score=score-1\n",
    "        else:\n",
    "            if each_word[i] in positive_text:\n",
    "                score=score+1\n",
    "            if each_word[i] in negative_text:\n",
    "                score=score-1\n",
    "    return score\n",
    "positive_text=load_words(\"NYC3-pos.txt\")\n",
    "negative_text=load_words(\"NYC3-neg.txt\")\n",
    "while True:\n",
    "    input_text=str(input(\"Enter your sentence here to detect the sentiment score\"))\n",
    "    if input_text==\"quit\":\n",
    "        break\n",
    "    else:\n",
    "        score=sentiment(positive_text,negative_text,input_text)\n",
    "        if score==0:\n",
    "            state=\"neutral\"\n",
    "        elif score>0:\n",
    "            state=\"positive\"\n",
    "        elif score<0:\n",
    "            state=\"negative\"\n",
    "        print(\"Your sentiment score is %d,and your state is %s\" %(score,state))\n",
    "          \n",
    "              "
   ]
  }
 ],
 "metadata": {
  "anaconda-cloud": {},
  "kernelspec": {
   "display_name": "Python 3",
   "language": "python",
   "name": "python3"
  },
  "language_info": {
   "codemirror_mode": {
    "name": "ipython",
    "version": 3
   },
   "file_extension": ".py",
   "mimetype": "text/x-python",
   "name": "python",
   "nbconvert_exporter": "python",
   "pygments_lexer": "ipython3",
   "version": "3.5.2"
  }
 },
 "nbformat": 4,
 "nbformat_minor": 0
}
