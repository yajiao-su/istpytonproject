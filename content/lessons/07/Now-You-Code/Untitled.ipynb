{
 "cells": [
  {
   "cell_type": "code",
   "execution_count": null,
   "metadata": {
    "collapsed": true
   },
   "outputs": [],
   "source": [
    "#input the sentence\n",
    "#if the sentence has no hashtages then print\n",
    "#if the sentence has hashtages then extract them\n",
    "#and need to find if hastages in not in the character, if it does, then it's wrong"
   ]
  },
  {
   "cell_type": "code",
   "execution_count": 19,
   "metadata": {
    "collapsed": false
   },
   "outputs": [
    {
     "name": "stdout",
     "output_type": "stream",
     "text": [
      "Enter a tweet here:k#skl\n",
      "You have something wrong with the word k#skl\n",
      " A hashtage should always at the first place of a word.\n"
     ]
    }
   ],
   "source": [
    "tweet=input(\"Enter a tweet here:\")\n",
    "each_word=tweet.split(\" \")\n",
    "count=0\n",
    "if tweet.count(\"#\")!=0:\n",
    "    for i in range(0,len(each_word)):\n",
    "        if(each_word[i].find('#')==0 and each_word[i].count(\"#\")==1):\n",
    "            print(\"Hashtage:%s\" %each_word[i])\n",
    "            count=count+1\n",
    "        elif(each_word[i].find('#')>=0) and (each_word[i].count(\"#\")==1):\n",
    "            print(\"You have something wrong with the word %s\\n A hashtage should always at the first place of a word.\" %each_word[i])\n",
    "        elif(each_word[i].count('#')>1):\n",
    "                  print(\"The word %s should not contain more than one hashtag!\" %each_word[i])\n",
    "        else:\n",
    "                  continue\n",
    "else:\n",
    "    print(\"Hashtag: none\")"
   ]
  },
  {
   "cell_type": "code",
   "execution_count": null,
   "metadata": {
    "collapsed": true
   },
   "outputs": [],
   "source": []
  }
 ],
 "metadata": {
  "kernelspec": {
   "display_name": "Python 3",
   "language": "python",
   "name": "python3"
  }
 },
 "nbformat": 4,
 "nbformat_minor": 2
}
