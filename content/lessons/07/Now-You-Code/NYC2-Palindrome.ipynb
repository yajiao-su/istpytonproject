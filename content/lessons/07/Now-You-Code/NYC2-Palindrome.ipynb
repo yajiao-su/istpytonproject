{
 "cells": [
  {
   "cell_type": "markdown",
   "metadata": {},
   "source": [
    "# Now You Code 2: Palindrome Detector\n",
    "\n",
    "Write a program to detect palindromes. A palindrome is defined as a word or phrase which is the same in reverse. Here's some example's of one word palindromes:\n",
    "\n",
    "```\n",
    "dad\n",
    "wow\n",
    "pop\n",
    "abba\n",
    "noon\n",
    "kayak\n",
    "madam\n",
    "solos\n",
    "racecar\n",
    "```\n",
    "\n",
    "There's several ways you accomplish this but we'd recommend using Python's extended slice notation as covered in the readings. It's by far the simplest method. \n",
    "\n",
    "Don't forget to write your to-do list before your code.\n"
   ]
  },
  {
   "cell_type": "code",
   "execution_count": 2,
   "metadata": {
    "collapsed": false
   },
   "outputs": [],
   "source": [
    "## TODO List\n",
    "#set a function\n",
    "# if "
   ]
  },
  {
   "cell_type": "code",
   "execution_count": 5,
   "metadata": {
    "collapsed": false
   },
   "outputs": [],
   "source": [
    "## Code here\n"
   ]
  },
  {
   "cell_type": "code",
   "execution_count": null,
   "metadata": {
    "collapsed": true
   },
   "outputs": [],
   "source": []
  }
 ],
 "metadata": {
  "anaconda-cloud": {},
  "kernelspec": {
   "display_name": "Python 3",
   "language": "python",
   "name": "python3"
  },
  "language_info": {
   "codemirror_mode": {
    "name": "ipython",
    "version": 3
   },
   "file_extension": ".py",
   "mimetype": "text/x-python",
   "name": "python",
   "nbconvert_exporter": "python",
   "pygments_lexer": "ipython3",
   "version": "3.5.2"
  }
 },
 "nbformat": 4,
 "nbformat_minor": 0
}
