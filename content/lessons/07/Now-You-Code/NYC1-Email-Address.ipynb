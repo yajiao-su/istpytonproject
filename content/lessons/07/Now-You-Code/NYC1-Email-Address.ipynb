{
 "cells": [
  {
   "cell_type": "markdown",
   "metadata": {},
   "source": [
    "# Now You Code 1: Is That An Email Address\n",
    "\n",
    "Let's use Python's built-in string functions to write our own function to detect if a string is an email address. \n",
    "\n",
    "The function `isEmail(text)` should return `True` when `text` is an email address, `False` otherwise.  \n",
    "\n",
    "For simplicity's sake we will define an email address to be of the form: `username@domain` where `username` and `domain` are strings, too. This means `@syr.edu` is not an email because it is missing `username` in front of the `@` \n",
    "\n",
    "There should only be ONE `@` symbol!\n",
    "\n",
    "The program should detect emails until you enter quit. \n",
    "\n",
    "Sample run:\n",
    "```\n",
    "Email address detector. Type quit to exit. \n",
    "Email: mafudge@syr.edu\n",
    "mafudge@syr.edu ==> email\n",
    "Email: mafudge@\n",
    "mafudge@ ==> NOT EMAIL\n",
    "Email: mafudge\n",
    "mafudge ==> NOT EMAIL\n",
    "Email: @syr.edu\n",
    "@syr.edu ==> NOT EMAIL\n",
    "Email: @\n",
    "@ ==> NOT EMAIL\n",
    "Email: mafudge@@syr.edu\n",
    "mafudge@@syr.edu ==> NOT EMAIL\n",
    "Email: mafudge@syr@edu\n",
    "mafudge@syr@edu ==> NOT EMAIL\n",
    "```\n",
    "Suggested approach:\n",
    "\n",
    "1. Start by writing your TODO list.\n",
    "2. Write your code\n",
    "3. Refactor into a user-defined function."
   ]
  },
  {
   "cell_type": "code",
   "execution_count": null,
   "metadata": {
    "collapsed": false
   },
   "outputs": [],
   "source": [
    "## TODO List\n",
    "\n",
    "#intialize count\n",
    "#use try except for runtime error\n",
    "#use \n",
    "#rule\n",
    "#can't have @@\n",
    "#domain !=0\n",
    "#username !=0"
   ]
  },
  {
   "cell_type": "code",
   "execution_count": 5,
   "metadata": {
    "collapsed": false
   },
   "outputs": [
    {
     "ename": "SyntaxError",
     "evalue": "invalid syntax (<ipython-input-5-0ca70ea90f24>, line 7)",
     "output_type": "error",
     "traceback": [
      "\u001b[0;36m  File \u001b[0;32m\"<ipython-input-5-0ca70ea90f24>\"\u001b[0;36m, line \u001b[0;32m7\u001b[0m\n\u001b[0;31m    domain=[len(at):-1]\u001b[0m\n\u001b[0m                   ^\u001b[0m\n\u001b[0;31mSyntaxError\u001b[0m\u001b[0;31m:\u001b[0m invalid syntax\n"
     ]
    }
   ],
   "source": [
    "import string\n",
    "while True:\n",
    "    email=input(\"enter your email here\")\n",
    "    def isEmail(email):\n",
    "        at=email.find('@')\n",
    "        username=email[0:len(at)]\n",
    "        domain=[len(at):-1]\n",
    "    if len(username) or len(domain)==0\n",
    "        False\n",
    "        print(\"Not an email\")\n",
    "        return\n",
    "    elif at in username or at in domain:\n",
    "        False\n",
    "        print(\"Not an email\")\n",
    "        return\n",
    "    elif email=='quit':\n",
    "        break\n",
    "    else:\n",
    "        True\n",
    "        print('It is an email')\n",
    "        return \n",
    "\n",
    "    \n",
    "\n",
    "\n"
   ]
  },
  {
   "cell_type": "code",
   "execution_count": 6,
   "metadata": {
    "collapsed": false
   },
   "outputs": [
    {
     "name": "stdout",
     "output_type": "stream",
     "text": [
      "Email address detector. Type quit to exit.yajiao\n",
      "Not Email\n",
      "Email address detector. Type quit to exit.yajiao@syr.edu\n",
      "It is an email\n",
      "Email address detector. Type quit to exit.quit\n"
     ]
    }
   ],
   "source": [
    "def isEmail(text):\n",
    "    not_email=\"Not Email\"\n",
    "    good_email=\"It is an email\"\n",
    "    if text.endswith('@')==True:\n",
    "        return not_email\n",
    "    elif text.count('@') !=1:\n",
    "        return not_email\n",
    "    elif len(text)<=8:\n",
    "        return not_email\n",
    "    elif text.find(\"@\")==0:\n",
    "        return not_email\n",
    "    elif text.count(\".\")==0:\n",
    "        return not_email\n",
    "    else:\n",
    "        return good_email\n",
    "while True:\n",
    "    text=str(input(\"Email address detector. Type quit to exit.\"))\n",
    "    if text=='quit':\n",
    "        break\n",
    "    else:\n",
    "        print(isEmail(text))"
   ]
  },
  {
   "cell_type": "code",
   "execution_count": null,
   "metadata": {
    "collapsed": false
   },
   "outputs": [],
   "source": []
  },
  {
   "cell_type": "code",
   "execution_count": null,
   "metadata": {
    "collapsed": true
   },
   "outputs": [],
   "source": []
  }
 ],
 "metadata": {
  "kernelspec": {
   "display_name": "Python 3",
   "language": "python",
   "name": "python3"
  },
  "language_info": {
   "codemirror_mode": {
    "name": "ipython",
    "version": 3
   },
   "file_extension": ".py",
   "mimetype": "text/x-python",
   "name": "python",
   "nbconvert_exporter": "python",
   "pygments_lexer": "ipython3",
   "version": "3.5.2"
  }
 },
 "nbformat": 4,
 "nbformat_minor": 0
}
