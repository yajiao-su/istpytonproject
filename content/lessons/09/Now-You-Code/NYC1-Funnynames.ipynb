{
 "cells": [
  {
   "cell_type": "markdown",
   "metadata": {},
   "source": [
    "# Now You Code 1: Funny Names\n",
    "\n",
    "Write a program to \n",
    "\n",
    " 1. read the file `NYC1-funnynames.txt` into a list, by completing the function provided.\n",
    " 2. sort the list of names\n",
    " 3. print the list of names one name per line.\n",
    "\n",
    "\n",
    "Program Output:\n",
    "```\n",
    "Alma Frienzergon\n",
    "Kent Belevit\n",
    "Mitch Again\n",
    "Oliver Stuffismisson\n",
    "Sandi Shores\n",
    "Sarah Bellum\n",
    "Willie Pas-D'course\n",
    "Yolanda Ismyland\n",
    "```\n"
   ]
  },
  {
   "cell_type": "code",
   "execution_count": 1,
   "metadata": {
    "collapsed": false
   },
   "outputs": [],
   "source": [
    "# this function reads from \"NYC-funnynames.txt\" places the names in a list.\n",
    "# program should return a list of names\n",
    "def read_names():\n",
    "    names = []\n",
    "    #todo write code here\n",
    "        \n",
    "\n",
    "# TODO: MAIN PROGRAM HERE (call read_names, sort names, then print names)\n"
   ]
  }
 ],
 "metadata": {
  "anaconda-cloud": {},
  "kernelspec": {
   "display_name": "Python [default]",
   "language": "python",
   "name": "python3"
  },
  "language_info": {
   "codemirror_mode": {
    "name": "ipython",
    "version": 3
   },
   "file_extension": ".py",
   "mimetype": "text/x-python",
   "name": "python",
   "nbconvert_exporter": "python",
   "pygments_lexer": "ipython3",
   "version": "3.5.2"
  }
 },
 "nbformat": 4,
 "nbformat_minor": 0
}
