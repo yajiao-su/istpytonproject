{
 "cells": [
  {
   "cell_type": "markdown",
   "metadata": {},
   "source": [
    "# Now You Code 2: Information Extraction\n",
    "\n",
    "How do we make computers seem intelligent? One approach is to use *term extraction*. Term extration is a type of information extration where we attempt to find relevant terms in text. The relevant terms come from a *corpus*, or set of plausible terms we want to extract.\n",
    "\n",
    "For example, suppose we have the text:\n",
    "\n",
    "`One day I would like to visit Syracuse`\n",
    "\n",
    "We has smart humans can be fairly confident that `Syracuse` is a place, more specifically a `city`. \n",
    "\n",
    "A rudimentary method to make the computer interpret `Syracuse` as a place is to provide a corpus of cities and have the computer look up `Syracuse` in that corpus. \n",
    "\n",
    "In this code exercise we will do just that. Let's first write a function to read cities from the file `NYC2-cities.txt` into a corpus of cities, which will be represented in Python as a list.\n",
    "\n",
    "Then write a main program loop to input some text, split the text into a list of words and if any of the words match a city in the corpus list we will output the word is a city.\n",
    "\n",
    "The program should handle upper / lower case matching. A good approach is to title case the input. \n",
    "\n",
    "IMPORTANT: Please note that our program will ONLY work for one word cities. Later we will provide an approach for multiple-word cities, such as `New York` or `San Diego`. Don't worry about that now. \n",
    "\n",
    "\n",
    "SAMPLE RUN\n",
    "\n",
    "```\n",
    "Enter some text (or ENTER to quit): one day I would like to visit syraucse and rochester\n",
    "Syracuse is a city\n",
    "Rochester is a city\n",
    "Enter some text (or ENTER to quit): austin is in texas\n",
    "Austin is a city\n",
    "Enter some text (or ENTER to quit): \n",
    "Quitting...\n",
    "```\n",
    "\n",
    "As usual begin your program with your plan as a to-do list. I suggest writing the loading of the corpus as a function."
   ]
  },
  {
   "cell_type": "code",
   "execution_count": null,
   "metadata": {
    "collapsed": true
   },
   "outputs": [],
   "source": [
    "## Write TODO list here\n",
    "#define load_city_corpus():\n",
    "#open NYC2-cities.txt\n",
    "#line.strip to remove strip\n",
    "#line.split\n"
   ]
  },
  {
   "cell_type": "code",
   "execution_count": null,
   "metadata": {
    "collapsed": false
   },
   "outputs": [
    {
     "name": "stdout",
     "output_type": "stream",
     "text": [
      "Enter a sentence with a city or press Enter to quitsyracuse\n",
      "Syracuse is a city\n"
     ]
    }
   ],
   "source": [
    "## Write Code Here\n",
    "def load_city_corpus():\n",
    "    corpus = []\n",
    "    with open('NYC2-cities.txt','r')as f:\n",
    "        for line in f:\n",
    "            corpus.append(line.strip().lower())\n",
    "    return corpus\n",
    "\n",
    "## main program\n",
    "city_corpus = load_city_corpus()\n",
    "# todo write code here\n",
    "while True:\n",
    "    user_input=input(\"Enter a sentence with a city or press Enter to quit\")\n",
    "    user_input=user_input.lower()\n",
    "    if user_input==\"\":\n",
    "        print(\"quit\")\n",
    "        break\n",
    "    else:\n",
    "        split_word=user_input.split()\n",
    "        for i in range(len(split_word)):\n",
    "            if split_word[i] in city_corpus:\n",
    "                print(\"%s is a city\" %(split_word[i].title()))\n",
    "            else:\n",
    "                continue"
   ]
  },
  {
   "cell_type": "code",
   "execution_count": null,
   "metadata": {
    "collapsed": true
   },
   "outputs": [],
   "source": []
  }
 ],
 "metadata": {
  "anaconda-cloud": {},
  "kernelspec": {
   "display_name": "Python 3",
   "language": "python",
   "name": "python3"
  },
  "language_info": {
   "codemirror_mode": {
    "name": "ipython",
    "version": 3
   },
   "file_extension": ".py",
   "mimetype": "text/x-python",
   "name": "python",
   "nbconvert_exporter": "python",
   "pygments_lexer": "ipython3",
   "version": "3.5.2"
  }
 },
 "nbformat": 4,
 "nbformat_minor": 0
}
