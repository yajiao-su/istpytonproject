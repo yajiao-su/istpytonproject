{
 "cells": [
  {
   "cell_type": "markdown",
   "metadata": {
    "collapsed": false
   },
   "source": [
    "# Watch Me Code 1: List Enumeration & Aggregates\n"
   ]
  },
  {
   "cell_type": "code",
   "execution_count": 2,
   "metadata": {
    "collapsed": true
   },
   "outputs": [],
   "source": [
    "quizzes = [5,5,4,2,2,4,5,3]"
   ]
  },
  {
   "cell_type": "code",
   "execution_count": 2,
   "metadata": {
    "collapsed": false
   },
   "outputs": [
    {
     "name": "stdout",
     "output_type": "stream",
     "text": [
      "Quiz Grade: 5\n",
      "Quiz Grade: 5\n",
      "Quiz Grade: 4\n",
      "Quiz Grade: 2\n",
      "Quiz Grade: 2\n",
      "Quiz Grade: 4\n",
      "Quiz Grade: 5\n",
      "Quiz Grade: 3\n"
     ]
    }
   ],
   "source": [
    "# definiate loop\n",
    "for quiz in quizzes:\n",
    "    print(\"Grade:\", quiz)"
   ]
  },
  {
   "cell_type": "code",
   "execution_count": 3,
   "metadata": {
    "collapsed": false
   },
   "outputs": [
    {
     "name": "stdout",
     "output_type": "stream",
     "text": [
      "Quiz 0 Grade: 5\n",
      "Quiz 1 Grade: 5\n",
      "Quiz 2 Grade: 4\n",
      "Quiz 3 Grade: 2\n",
      "Quiz 4 Grade: 2\n",
      "Quiz 5 Grade: 4\n",
      "Quiz 6 Grade: 5\n",
      "Quiz 7 Grade: 3\n"
     ]
    }
   ],
   "source": [
    "# definite loop with indexes\n",
    "for i in range(len(quizzes)):\n",
    "    print(\"Quiz %d Grade: %d\" %( i, quizzes[i]))"
   ]
  },
  {
   "cell_type": "code",
   "execution_count": 4,
   "metadata": {
    "collapsed": false
   },
   "outputs": [
    {
     "name": "stdout",
     "output_type": "stream",
     "text": [
      "5\n",
      "3\n",
      "[5, 5, 4]\n",
      "[2, 2, 4, 5, 3]\n"
     ]
    }
   ],
   "source": [
    "# indexes\n",
    "print(quizzes[0]) # first\n",
    "print(quizzes[-1]) # last\n",
    "\n",
    "# mutable\n",
    "quizzes[1] = 0\n",
    "\n",
    "#slices \n",
    "print(quizzes[0:3])\n",
    "print(quizzes[3:])"
   ]
  },
  {
   "cell_type": "code",
   "execution_count": 5,
   "metadata": {
    "collapsed": false
   },
   "outputs": [
    {
     "name": "stdout",
     "output_type": "stream",
     "text": [
      "Count 8\n",
      "Total 30\n",
      "Average 3.75\n"
     ]
    }
   ],
   "source": [
    "# aggregations\n",
    "print(\"Count\",len(quizzes))\n",
    "print(\"Total\", sum(quizzes))\n",
    "print(\"Average\", sum(quizzes)/len(quizzes))"
   ]
  },
  {
   "cell_type": "code",
   "execution_count": null,
   "metadata": {
    "collapsed": true
   },
   "outputs": [],
   "source": []
  }
 ],
 "metadata": {
  "anaconda-cloud": {},
  "kernelspec": {
   "display_name": "Python [default]",
   "language": "python",
   "name": "python3"
  },
  "language_info": {
   "codemirror_mode": {
    "name": "ipython",
    "version": 3
   },
   "file_extension": ".py",
   "mimetype": "text/x-python",
   "name": "python",
   "nbconvert_exporter": "python",
   "pygments_lexer": "ipython3",
   "version": "3.5.2"
  }
 },
 "nbformat": 4,
 "nbformat_minor": 0
}
