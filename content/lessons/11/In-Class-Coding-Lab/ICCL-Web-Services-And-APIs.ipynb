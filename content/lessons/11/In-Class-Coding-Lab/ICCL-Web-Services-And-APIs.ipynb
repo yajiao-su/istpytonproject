{
 "cells": [
  {
   "cell_type": "markdown",
   "metadata": {
    "collapsed": false
   },
   "source": [
    "# In-Class Coding Lab: Web Services and APIs\n",
    "\n",
    "### Overview\n",
    "\n",
    "The web has long evolved from user-consumption to device consumption. In the early days of the web when you wanted to check the weather, you opened up your browser and visited a website. Nowadays your smart watch / smart phone retrieves the weather for you and displays it on the device. Your device can't predict the weather. It's simply consuming a weather based service. \n",
    "\n",
    "The key to making device consumption work are API's (Application Program Interfaces). Products we use everyday like smartphones, Amazon's Alexa, and gaming consoles all rely on API's. They seem \"smart\" and \"powerful\" but in actuality they're only interfacing with smart and powerful services in the cloud.\n",
    "\n",
    "API consumption is the new reality of programming; it is why we cover it in this course. Once you undersand how to conusme API's you can write a program to do almost anything and harness the power of the internet to make your own programs look \"smart\" and \"powerful.\" \n",
    "\n",
    "This lab covers how to properly use consume web service API's with Python. Here's what we will cover.\n",
    "\n",
    "1. Understading requests and responses\n",
    "1. Proper error handling\n",
    "1. Parameter handling\n",
    "1. Refactoring as a function\n"
   ]
  },
  {
   "cell_type": "markdown",
   "metadata": {},
   "source": [
    "## Pre-Requisites: Let's install what we need for the remainder of the course:\n",
    "\n",
    "NOTE: Run this cell. It will install several Python packages you will need. It might take 2-3 minutes to do the installs please be patient."
   ]
  },
  {
   "cell_type": "code",
   "execution_count": 1,
   "metadata": {
    "collapsed": false
   },
   "outputs": [
    {
     "name": "stdout",
     "output_type": "stream",
     "text": [
      "Fetching package metadata .........\n",
      "Solving package specifications: .\n",
      "\n",
      "Package plan for installation in environment /Users/yanruijiao/miniconda3:\n",
      "\n",
      "The following packages will be UPDATED:\n",
      "\n",
      "    conda:      4.3.6-py35_0      --> 4.3.16-py35_0    \n",
      "    matplotlib: 1.5.3-np111py35_1 --> 2.0.0-np111py35_0\n",
      "\n",
      "Requirement already satisfied (use --upgrade to upgrade): requests in /Users/yanruijiao/miniconda3/lib/python3.5/site-packages\n",
      "Collecting html5\n",
      "  Downloading html5-0.0.9-py2.py3-none-any.whl (112kB)\n",
      "\u001b[K    100% |████████████████████████████████| 112kB 1.9MB/s ta 0:00:01\n",
      "\u001b[?25hCollecting lxml\n",
      "  Downloading lxml-3.7.3.tar.gz (3.8MB)\n",
      "\u001b[K    100% |████████████████████████████████| 3.8MB 147kB/s eta 0:00:01\n",
      "\u001b[?25hRequirement already satisfied (use --upgrade to upgrade): setuptools>=18.5 in /Users/yanruijiao/miniconda3/lib/python3.5/site-packages/setuptools-27.2.0-py3.5.egg (from html5)\n",
      "Collecting webencodings (from html5)\n",
      "  Downloading webencodings-0.5.1-py2.py3-none-any.whl\n",
      "Requirement already satisfied (use --upgrade to upgrade): six in /Users/yanruijiao/miniconda3/lib/python3.5/site-packages (from html5)\n",
      "Building wheels for collected packages: lxml\n",
      "  Running setup.py bdist_wheel for lxml ... \u001b[?25l-\b \b\\\b \b|\b \berror\n",
      "  Complete output from command /Users/yanruijiao/miniconda3/bin/python -u -c \"import setuptools, tokenize;__file__='/private/var/folders/hh/gqmzpyl16c75q767prq7_gy00000gn/T/pip-build-ja87oafw/lxml/setup.py';exec(compile(getattr(tokenize, 'open', open)(__file__).read().replace('\\r\\n', '\\n'), __file__, 'exec'))\" bdist_wheel -d /var/folders/hh/gqmzpyl16c75q767prq7_gy00000gn/T/tmph7_ma_iepip-wheel- --python-tag cp35:\n",
      "  Building lxml version 3.7.3.\n",
      "  Building without Cython.\n",
      "  Using build configuration of libxslt 1.1.28\n",
      "  running bdist_wheel\n",
      "  running build\n",
      "  running build_py\n",
      "  creating build\n",
      "  creating build/lib.macosx-10.6-x86_64-3.5\n",
      "  creating build/lib.macosx-10.6-x86_64-3.5/lxml\n",
      "  copying src/lxml/__init__.py -> build/lib.macosx-10.6-x86_64-3.5/lxml\n",
      "  copying src/lxml/_elementpath.py -> build/lib.macosx-10.6-x86_64-3.5/lxml\n",
      "  copying src/lxml/builder.py -> build/lib.macosx-10.6-x86_64-3.5/lxml\n",
      "  copying src/lxml/cssselect.py -> build/lib.macosx-10.6-x86_64-3.5/lxml\n",
      "  copying src/lxml/doctestcompare.py -> build/lib.macosx-10.6-x86_64-3.5/lxml\n",
      "  copying src/lxml/ElementInclude.py -> build/lib.macosx-10.6-x86_64-3.5/lxml\n",
      "  copying src/lxml/pyclasslookup.py -> build/lib.macosx-10.6-x86_64-3.5/lxml\n",
      "  copying src/lxml/sax.py -> build/lib.macosx-10.6-x86_64-3.5/lxml\n",
      "  copying src/lxml/usedoctest.py -> build/lib.macosx-10.6-x86_64-3.5/lxml\n",
      "  creating build/lib.macosx-10.6-x86_64-3.5/lxml/includes\n",
      "  copying src/lxml/includes/__init__.py -> build/lib.macosx-10.6-x86_64-3.5/lxml/includes\n",
      "  creating build/lib.macosx-10.6-x86_64-3.5/lxml/html\n",
      "  copying src/lxml/html/__init__.py -> build/lib.macosx-10.6-x86_64-3.5/lxml/html\n",
      "  copying src/lxml/html/_diffcommand.py -> build/lib.macosx-10.6-x86_64-3.5/lxml/html\n",
      "  copying src/lxml/html/_html5builder.py -> build/lib.macosx-10.6-x86_64-3.5/lxml/html\n",
      "  copying src/lxml/html/_setmixin.py -> build/lib.macosx-10.6-x86_64-3.5/lxml/html\n",
      "  copying src/lxml/html/builder.py -> build/lib.macosx-10.6-x86_64-3.5/lxml/html\n",
      "  copying src/lxml/html/clean.py -> build/lib.macosx-10.6-x86_64-3.5/lxml/html\n",
      "  copying src/lxml/html/defs.py -> build/lib.macosx-10.6-x86_64-3.5/lxml/html\n",
      "  copying src/lxml/html/diff.py -> build/lib.macosx-10.6-x86_64-3.5/lxml/html\n",
      "  copying src/lxml/html/ElementSoup.py -> build/lib.macosx-10.6-x86_64-3.5/lxml/html\n",
      "  copying src/lxml/html/formfill.py -> build/lib.macosx-10.6-x86_64-3.5/lxml/html\n",
      "  copying src/lxml/html/html5parser.py -> build/lib.macosx-10.6-x86_64-3.5/lxml/html\n",
      "  copying src/lxml/html/soupparser.py -> build/lib.macosx-10.6-x86_64-3.5/lxml/html\n",
      "  copying src/lxml/html/usedoctest.py -> build/lib.macosx-10.6-x86_64-3.5/lxml/html\n",
      "  creating build/lib.macosx-10.6-x86_64-3.5/lxml/isoschematron\n",
      "  copying src/lxml/isoschematron/__init__.py -> build/lib.macosx-10.6-x86_64-3.5/lxml/isoschematron\n",
      "  copying src/lxml/lxml.etree.h -> build/lib.macosx-10.6-x86_64-3.5/lxml\n",
      "  copying src/lxml/lxml.etree_api.h -> build/lib.macosx-10.6-x86_64-3.5/lxml\n",
      "  copying src/lxml/includes/c14n.pxd -> build/lib.macosx-10.6-x86_64-3.5/lxml/includes\n",
      "  copying src/lxml/includes/config.pxd -> build/lib.macosx-10.6-x86_64-3.5/lxml/includes\n",
      "  copying src/lxml/includes/dtdvalid.pxd -> build/lib.macosx-10.6-x86_64-3.5/lxml/includes\n",
      "  copying src/lxml/includes/etreepublic.pxd -> build/lib.macosx-10.6-x86_64-3.5/lxml/includes\n",
      "  copying src/lxml/includes/htmlparser.pxd -> build/lib.macosx-10.6-x86_64-3.5/lxml/includes\n",
      "  copying src/lxml/includes/relaxng.pxd -> build/lib.macosx-10.6-x86_64-3.5/lxml/includes\n",
      "  copying src/lxml/includes/schematron.pxd -> build/lib.macosx-10.6-x86_64-3.5/lxml/includes\n",
      "  copying src/lxml/includes/tree.pxd -> build/lib.macosx-10.6-x86_64-3.5/lxml/includes\n",
      "  copying src/lxml/includes/uri.pxd -> build/lib.macosx-10.6-x86_64-3.5/lxml/includes\n",
      "  copying src/lxml/includes/xinclude.pxd -> build/lib.macosx-10.6-x86_64-3.5/lxml/includes\n",
      "  copying src/lxml/includes/xmlerror.pxd -> build/lib.macosx-10.6-x86_64-3.5/lxml/includes\n",
      "  copying src/lxml/includes/xmlparser.pxd -> build/lib.macosx-10.6-x86_64-3.5/lxml/includes\n",
      "  copying src/lxml/includes/xmlschema.pxd -> build/lib.macosx-10.6-x86_64-3.5/lxml/includes\n",
      "  copying src/lxml/includes/xpath.pxd -> build/lib.macosx-10.6-x86_64-3.5/lxml/includes\n",
      "  copying src/lxml/includes/xslt.pxd -> build/lib.macosx-10.6-x86_64-3.5/lxml/includes\n",
      "  copying src/lxml/includes/etree_defs.h -> build/lib.macosx-10.6-x86_64-3.5/lxml/includes\n",
      "  copying src/lxml/includes/lxml-version.h -> build/lib.macosx-10.6-x86_64-3.5/lxml/includes\n",
      "  creating build/lib.macosx-10.6-x86_64-3.5/lxml/isoschematron/resources\n",
      "  creating build/lib.macosx-10.6-x86_64-3.5/lxml/isoschematron/resources/rng\n",
      "  copying src/lxml/isoschematron/resources/rng/iso-schematron.rng -> build/lib.macosx-10.6-x86_64-3.5/lxml/isoschematron/resources/rng\n",
      "  creating build/lib.macosx-10.6-x86_64-3.5/lxml/isoschematron/resources/xsl\n",
      "  copying src/lxml/isoschematron/resources/xsl/RNG2Schtrn.xsl -> build/lib.macosx-10.6-x86_64-3.5/lxml/isoschematron/resources/xsl\n",
      "  copying src/lxml/isoschematron/resources/xsl/XSD2Schtrn.xsl -> build/lib.macosx-10.6-x86_64-3.5/lxml/isoschematron/resources/xsl\n",
      "  creating build/lib.macosx-10.6-x86_64-3.5/lxml/isoschematron/resources/xsl/iso-schematron-xslt1\n",
      "  copying src/lxml/isoschematron/resources/xsl/iso-schematron-xslt1/iso_abstract_expand.xsl -> build/lib.macosx-10.6-x86_64-3.5/lxml/isoschematron/resources/xsl/iso-schematron-xslt1\n",
      "  copying src/lxml/isoschematron/resources/xsl/iso-schematron-xslt1/iso_dsdl_include.xsl -> build/lib.macosx-10.6-x86_64-3.5/lxml/isoschematron/resources/xsl/iso-schematron-xslt1\n",
      "  copying src/lxml/isoschematron/resources/xsl/iso-schematron-xslt1/iso_schematron_message.xsl -> build/lib.macosx-10.6-x86_64-3.5/lxml/isoschematron/resources/xsl/iso-schematron-xslt1\n",
      "  copying src/lxml/isoschematron/resources/xsl/iso-schematron-xslt1/iso_schematron_skeleton_for_xslt1.xsl -> build/lib.macosx-10.6-x86_64-3.5/lxml/isoschematron/resources/xsl/iso-schematron-xslt1\n",
      "  copying src/lxml/isoschematron/resources/xsl/iso-schematron-xslt1/iso_svrl_for_xslt1.xsl -> build/lib.macosx-10.6-x86_64-3.5/lxml/isoschematron/resources/xsl/iso-schematron-xslt1\n",
      "  copying src/lxml/isoschematron/resources/xsl/iso-schematron-xslt1/readme.txt -> build/lib.macosx-10.6-x86_64-3.5/lxml/isoschematron/resources/xsl/iso-schematron-xslt1\n",
      "  running build_ext\n",
      "  building 'lxml.etree' extension\n",
      "  creating build/temp.macosx-10.6-x86_64-3.5\n",
      "  creating build/temp.macosx-10.6-x86_64-3.5/src\n",
      "  creating build/temp.macosx-10.6-x86_64-3.5/src/lxml\n",
      "  /usr/bin/clang -Wno-unused-result -Wsign-compare -Wunreachable-code -DNDEBUG -g -fwrapv -O3 -Wall -Wstrict-prototypes -I/Users/yanruijiao/miniconda3/include -arch x86_64 -I/usr/include/libxml2 -Isrc/lxml/includes -I/Users/yanruijiao/miniconda3/include/python3.5m -c src/lxml/lxml.etree.c -o build/temp.macosx-10.6-x86_64-3.5/src/lxml/lxml.etree.o -w -flat_namespace\n",
      "  xcode-select: note: no developer tools were found at '/Applications/Xcode.app', requesting install. Choose an option in the dialog to download the command line developer tools.\n",
      "  Compile failed: command '/usr/bin/clang' failed with exit status 1\n",
      "  creating var\n",
      "  creating var/folders\n",
      "  creating var/folders/hh\n",
      "  creating var/folders/hh/gqmzpyl16c75q767prq7_gy00000gn\n",
      "  creating var/folders/hh/gqmzpyl16c75q767prq7_gy00000gn/T\n",
      "  cc -I/usr/include/libxml2 -I/usr/include/libxml2 -c /var/folders/hh/gqmzpyl16c75q767prq7_gy00000gn/T/xmlXPathInitpshzf117.c -o var/folders/hh/gqmzpyl16c75q767prq7_gy00000gn/T/xmlXPathInitpshzf117.o\n",
      "  xcode-select: note: no developer tools were found at '/Applications/Xcode.app', requesting install. Choose an option in the dialog to download the command line developer tools.\n",
      "  *********************************************************************************\n",
      "  Could not find function xmlCheckVersion in library libxml2. Is libxml2 installed?\n",
      "  Perhaps try: xcode-select --install\n",
      "  *********************************************************************************\n",
      "  error: command '/usr/bin/clang' failed with exit status 1\n",
      "  \n",
      "  ----------------------------------------\n",
      "\u001b[31m  Failed building wheel for lxml\u001b[0m\n",
      "\u001b[?25h  Running setup.py clean for lxml\n",
      "Failed to build lxml\n",
      "Installing collected packages: webencodings, html5, lxml\n",
      "  Running setup.py install for lxml ... \u001b[?25l-\b \b\\\b \berror\n",
      "    Complete output from command /Users/yanruijiao/miniconda3/bin/python -u -c \"import setuptools, tokenize;__file__='/private/var/folders/hh/gqmzpyl16c75q767prq7_gy00000gn/T/pip-build-ja87oafw/lxml/setup.py';exec(compile(getattr(tokenize, 'open', open)(__file__).read().replace('\\r\\n', '\\n'), __file__, 'exec'))\" install --record /var/folders/hh/gqmzpyl16c75q767prq7_gy00000gn/T/pip-o_qqrjf2-record/install-record.txt --single-version-externally-managed --compile:\n",
      "    Building lxml version 3.7.3.\n",
      "    Building without Cython.\n",
      "    Using build configuration of libxslt 1.1.28\n",
      "    running install\n",
      "    running build\n",
      "    running build_py\n",
      "    creating build\n",
      "    creating build/lib.macosx-10.6-x86_64-3.5\n",
      "    creating build/lib.macosx-10.6-x86_64-3.5/lxml\n",
      "    copying src/lxml/__init__.py -> build/lib.macosx-10.6-x86_64-3.5/lxml\n",
      "    copying src/lxml/_elementpath.py -> build/lib.macosx-10.6-x86_64-3.5/lxml\n",
      "    copying src/lxml/builder.py -> build/lib.macosx-10.6-x86_64-3.5/lxml\n",
      "    copying src/lxml/cssselect.py -> build/lib.macosx-10.6-x86_64-3.5/lxml\n",
      "    copying src/lxml/doctestcompare.py -> build/lib.macosx-10.6-x86_64-3.5/lxml\n",
      "    copying src/lxml/ElementInclude.py -> build/lib.macosx-10.6-x86_64-3.5/lxml\n",
      "    copying src/lxml/pyclasslookup.py -> build/lib.macosx-10.6-x86_64-3.5/lxml\n",
      "    copying src/lxml/sax.py -> build/lib.macosx-10.6-x86_64-3.5/lxml\n",
      "    copying src/lxml/usedoctest.py -> build/lib.macosx-10.6-x86_64-3.5/lxml\n",
      "    creating build/lib.macosx-10.6-x86_64-3.5/lxml/includes\n",
      "    copying src/lxml/includes/__init__.py -> build/lib.macosx-10.6-x86_64-3.5/lxml/includes\n",
      "    creating build/lib.macosx-10.6-x86_64-3.5/lxml/html\n",
      "    copying src/lxml/html/__init__.py -> build/lib.macosx-10.6-x86_64-3.5/lxml/html\n",
      "    copying src/lxml/html/_diffcommand.py -> build/lib.macosx-10.6-x86_64-3.5/lxml/html\n",
      "    copying src/lxml/html/_html5builder.py -> build/lib.macosx-10.6-x86_64-3.5/lxml/html\n",
      "    copying src/lxml/html/_setmixin.py -> build/lib.macosx-10.6-x86_64-3.5/lxml/html\n",
      "    copying src/lxml/html/builder.py -> build/lib.macosx-10.6-x86_64-3.5/lxml/html\n",
      "    copying src/lxml/html/clean.py -> build/lib.macosx-10.6-x86_64-3.5/lxml/html\n",
      "    copying src/lxml/html/defs.py -> build/lib.macosx-10.6-x86_64-3.5/lxml/html\n",
      "    copying src/lxml/html/diff.py -> build/lib.macosx-10.6-x86_64-3.5/lxml/html\n",
      "    copying src/lxml/html/ElementSoup.py -> build/lib.macosx-10.6-x86_64-3.5/lxml/html\n",
      "    copying src/lxml/html/formfill.py -> build/lib.macosx-10.6-x86_64-3.5/lxml/html\n",
      "    copying src/lxml/html/html5parser.py -> build/lib.macosx-10.6-x86_64-3.5/lxml/html\n",
      "    copying src/lxml/html/soupparser.py -> build/lib.macosx-10.6-x86_64-3.5/lxml/html\n",
      "    copying src/lxml/html/usedoctest.py -> build/lib.macosx-10.6-x86_64-3.5/lxml/html\n",
      "    creating build/lib.macosx-10.6-x86_64-3.5/lxml/isoschematron\n",
      "    copying src/lxml/isoschematron/__init__.py -> build/lib.macosx-10.6-x86_64-3.5/lxml/isoschematron\n",
      "    copying src/lxml/lxml.etree.h -> build/lib.macosx-10.6-x86_64-3.5/lxml\n",
      "    copying src/lxml/lxml.etree_api.h -> build/lib.macosx-10.6-x86_64-3.5/lxml\n",
      "    copying src/lxml/includes/c14n.pxd -> build/lib.macosx-10.6-x86_64-3.5/lxml/includes\n",
      "    copying src/lxml/includes/config.pxd -> build/lib.macosx-10.6-x86_64-3.5/lxml/includes\n",
      "    copying src/lxml/includes/dtdvalid.pxd -> build/lib.macosx-10.6-x86_64-3.5/lxml/includes\n",
      "    copying src/lxml/includes/etreepublic.pxd -> build/lib.macosx-10.6-x86_64-3.5/lxml/includes\n",
      "    copying src/lxml/includes/htmlparser.pxd -> build/lib.macosx-10.6-x86_64-3.5/lxml/includes\n",
      "    copying src/lxml/includes/relaxng.pxd -> build/lib.macosx-10.6-x86_64-3.5/lxml/includes\n",
      "    copying src/lxml/includes/schematron.pxd -> build/lib.macosx-10.6-x86_64-3.5/lxml/includes\n",
      "    copying src/lxml/includes/tree.pxd -> build/lib.macosx-10.6-x86_64-3.5/lxml/includes\n",
      "    copying src/lxml/includes/uri.pxd -> build/lib.macosx-10.6-x86_64-3.5/lxml/includes\n",
      "    copying src/lxml/includes/xinclude.pxd -> build/lib.macosx-10.6-x86_64-3.5/lxml/includes\n",
      "    copying src/lxml/includes/xmlerror.pxd -> build/lib.macosx-10.6-x86_64-3.5/lxml/includes\n",
      "    copying src/lxml/includes/xmlparser.pxd -> build/lib.macosx-10.6-x86_64-3.5/lxml/includes\n",
      "    copying src/lxml/includes/xmlschema.pxd -> build/lib.macosx-10.6-x86_64-3.5/lxml/includes\n",
      "    copying src/lxml/includes/xpath.pxd -> build/lib.macosx-10.6-x86_64-3.5/lxml/includes\n",
      "    copying src/lxml/includes/xslt.pxd -> build/lib.macosx-10.6-x86_64-3.5/lxml/includes\n",
      "    copying src/lxml/includes/etree_defs.h -> build/lib.macosx-10.6-x86_64-3.5/lxml/includes\n",
      "    copying src/lxml/includes/lxml-version.h -> build/lib.macosx-10.6-x86_64-3.5/lxml/includes\n",
      "    creating build/lib.macosx-10.6-x86_64-3.5/lxml/isoschematron/resources\n",
      "    creating build/lib.macosx-10.6-x86_64-3.5/lxml/isoschematron/resources/rng\n",
      "    copying src/lxml/isoschematron/resources/rng/iso-schematron.rng -> build/lib.macosx-10.6-x86_64-3.5/lxml/isoschematron/resources/rng\n",
      "    creating build/lib.macosx-10.6-x86_64-3.5/lxml/isoschematron/resources/xsl\n",
      "    copying src/lxml/isoschematron/resources/xsl/RNG2Schtrn.xsl -> build/lib.macosx-10.6-x86_64-3.5/lxml/isoschematron/resources/xsl\n",
      "    copying src/lxml/isoschematron/resources/xsl/XSD2Schtrn.xsl -> build/lib.macosx-10.6-x86_64-3.5/lxml/isoschematron/resources/xsl\n",
      "    creating build/lib.macosx-10.6-x86_64-3.5/lxml/isoschematron/resources/xsl/iso-schematron-xslt1\n",
      "    copying src/lxml/isoschematron/resources/xsl/iso-schematron-xslt1/iso_abstract_expand.xsl -> build/lib.macosx-10.6-x86_64-3.5/lxml/isoschematron/resources/xsl/iso-schematron-xslt1\n",
      "    copying src/lxml/isoschematron/resources/xsl/iso-schematron-xslt1/iso_dsdl_include.xsl -> build/lib.macosx-10.6-x86_64-3.5/lxml/isoschematron/resources/xsl/iso-schematron-xslt1\n",
      "    copying src/lxml/isoschematron/resources/xsl/iso-schematron-xslt1/iso_schematron_message.xsl -> build/lib.macosx-10.6-x86_64-3.5/lxml/isoschematron/resources/xsl/iso-schematron-xslt1\n",
      "    copying src/lxml/isoschematron/resources/xsl/iso-schematron-xslt1/iso_schematron_skeleton_for_xslt1.xsl -> build/lib.macosx-10.6-x86_64-3.5/lxml/isoschematron/resources/xsl/iso-schematron-xslt1\n",
      "    copying src/lxml/isoschematron/resources/xsl/iso-schematron-xslt1/iso_svrl_for_xslt1.xsl -> build/lib.macosx-10.6-x86_64-3.5/lxml/isoschematron/resources/xsl/iso-schematron-xslt1\n",
      "    copying src/lxml/isoschematron/resources/xsl/iso-schematron-xslt1/readme.txt -> build/lib.macosx-10.6-x86_64-3.5/lxml/isoschematron/resources/xsl/iso-schematron-xslt1\n",
      "    running build_ext\n",
      "    building 'lxml.etree' extension\n",
      "    creating build/temp.macosx-10.6-x86_64-3.5\n",
      "    creating build/temp.macosx-10.6-x86_64-3.5/src\n",
      "    creating build/temp.macosx-10.6-x86_64-3.5/src/lxml\n",
      "    /usr/bin/clang -Wno-unused-result -Wsign-compare -Wunreachable-code -DNDEBUG -g -fwrapv -O3 -Wall -Wstrict-prototypes -I/Users/yanruijiao/miniconda3/include -arch x86_64 -I/usr/include/libxml2 -Isrc/lxml/includes -I/Users/yanruijiao/miniconda3/include/python3.5m -c src/lxml/lxml.etree.c -o build/temp.macosx-10.6-x86_64-3.5/src/lxml/lxml.etree.o -w -flat_namespace\n",
      "    xcode-select: note: no developer tools were found at '/Applications/Xcode.app', requesting install. Choose an option in the dialog to download the command line developer tools.\n",
      "    Compile failed: command '/usr/bin/clang' failed with exit status 1\n",
      "    cc -I/usr/include/libxml2 -I/usr/include/libxml2 -c /var/folders/hh/gqmzpyl16c75q767prq7_gy00000gn/T/xmlXPathInitmignnukq.c -o var/folders/hh/gqmzpyl16c75q767prq7_gy00000gn/T/xmlXPathInitmignnukq.o\n",
      "    xcode-select: note: no developer tools were found at '/Applications/Xcode.app', requesting install. Choose an option in the dialog to download the command line developer tools.\n",
      "    *********************************************************************************\n",
      "    Could not find function xmlCheckVersion in library libxml2. Is libxml2 installed?\n",
      "    Perhaps try: xcode-select --install\n",
      "    *********************************************************************************\n",
      "    error: command '/usr/bin/clang' failed with exit status 1\n",
      "    \n",
      "    ----------------------------------------\n",
      "\u001b[31mCommand \"/Users/yanruijiao/miniconda3/bin/python -u -c \"import setuptools, tokenize;__file__='/private/var/folders/hh/gqmzpyl16c75q767prq7_gy00000gn/T/pip-build-ja87oafw/lxml/setup.py';exec(compile(getattr(tokenize, 'open', open)(__file__).read().replace('\\r\\n', '\\n'), __file__, 'exec'))\" install --record /var/folders/hh/gqmzpyl16c75q767prq7_gy00000gn/T/pip-o_qqrjf2-record/install-record.txt --single-version-externally-managed --compile\" failed with error code 1 in /private/var/folders/hh/gqmzpyl16c75q767prq7_gy00000gn/T/pip-build-ja87oafw/lxml/\u001b[0m\n",
      "\u001b[33mYou are using pip version 8.1.2, however version 9.0.1 is available.\n",
      "You should consider upgrading via the 'pip install --upgrade pip' command.\u001b[0m\n",
      "\u001b[?25hCollecting plotly\n",
      "  Downloading plotly-2.0.6.tar.gz (835kB)\n",
      "\u001b[K    100% |████████████████████████████████| 839kB 469kB/s ta 0:00:01\n",
      "\u001b[?25hCollecting cufflinks\n",
      "  Downloading cufflinks-0.8.2.tar.gz\n",
      "Collecting folium\n",
      "  Downloading folium-0.3.0-py3-none-any.whl (71kB)\n",
      "\u001b[K    100% |████████████████████████████████| 71kB 2.4MB/s ta 0:00:011\n",
      "\u001b[?25hRequirement already satisfied (use --upgrade to upgrade): decorator in /Users/yanruijiao/miniconda3/lib/python3.5/site-packages (from plotly)\n",
      "Requirement already satisfied (use --upgrade to upgrade): nbformat>=4.2 in /Users/yanruijiao/miniconda3/lib/python3.5/site-packages (from plotly)\n",
      "Requirement already satisfied (use --upgrade to upgrade): pytz in /Users/yanruijiao/miniconda3/lib/python3.5/site-packages (from plotly)\n",
      "Requirement already satisfied (use --upgrade to upgrade): requests in /Users/yanruijiao/miniconda3/lib/python3.5/site-packages (from plotly)\n",
      "Requirement already satisfied (use --upgrade to upgrade): six in /Users/yanruijiao/miniconda3/lib/python3.5/site-packages (from plotly)\n",
      "Requirement already satisfied (use --upgrade to upgrade): pandas in /Users/yanruijiao/miniconda3/lib/python3.5/site-packages (from cufflinks)\n",
      "Collecting colorlover>=0.2 (from cufflinks)\n",
      "  Downloading colorlover-0.2.1.tar.gz\n",
      "Collecting branca (from folium)\n",
      "  Downloading branca-0.2.0-py3-none-any.whl\n",
      "Requirement already satisfied (use --upgrade to upgrade): Jinja2 in /Users/yanruijiao/miniconda3/lib/python3.5/site-packages (from folium)\n",
      "Requirement already satisfied (use --upgrade to upgrade): python-dateutil>=2 in /Users/yanruijiao/miniconda3/lib/python3.5/site-packages (from pandas->cufflinks)\n",
      "Requirement already satisfied (use --upgrade to upgrade): numpy>=1.7.0 in /Users/yanruijiao/miniconda3/lib/python3.5/site-packages (from pandas->cufflinks)\n",
      "Requirement already satisfied (use --upgrade to upgrade): MarkupSafe>=0.23 in /Users/yanruijiao/miniconda3/lib/python3.5/site-packages (from Jinja2->folium)\n",
      "Building wheels for collected packages: plotly, cufflinks, colorlover\n",
      "  Running setup.py bdist_wheel for plotly ... \u001b[?25l-\b \b\\\b \b|\b \b/\b \bdone\n",
      "\u001b[?25h  Stored in directory: /Users/yanruijiao/Library/Caches/pip/wheels/d0/2b/e5/8943ae1d7f52fb7427879caaee471c8a72cbc955073f52b1ad\n",
      "  Running setup.py bdist_wheel for cufflinks ... \u001b[?25l-\b \b\\\b \b|\b \bdone\n",
      "\u001b[?25h  Stored in directory: /Users/yanruijiao/Library/Caches/pip/wheels/de/a9/69/f853eccf2c2ac3ba8e7c79f904eedf354fea15d136902cd8b6\n",
      "  Running setup.py bdist_wheel for colorlover ... \u001b[?25l-\b \b\\\b \b|\b \bdone\n",
      "\u001b[?25h  Stored in directory: /Users/yanruijiao/Library/Caches/pip/wheels/b8/b0/18/76d3f3088cc73950ed1aa44ea074b93ed37309fea57dec78dc\n",
      "Successfully built plotly cufflinks colorlover\n",
      "Installing collected packages: plotly, colorlover, cufflinks, branca, folium\n",
      "Successfully installed branca-0.2.0 colorlover-0.2.1 cufflinks-0.8.2 folium-0.3.0 plotly-2.0.6\n",
      "\u001b[33mYou are using pip version 8.1.2, however version 9.0.1 is available.\n",
      "You should consider upgrading via the 'pip install --upgrade pip' command.\u001b[0m\n"
     ]
    }
   ],
   "source": [
    "!conda install -y -q  pandas matplotlib beautifulsoup4\n",
    "!pip install requests html5 lxml\n",
    "!pip install plotly cufflinks folium\n",
    "\n"
   ]
  },
  {
   "cell_type": "markdown",
   "metadata": {},
   "source": [
    "## Part 1: Understanding Requests and responses\n",
    "\n",
    "In this part we learn about the Python requests module. http://docs.python-requests.org/en/master/user/quickstart/ \n",
    "\n",
    "This module makes it easy to write code to send HTTP requests over the internet and handle the responses. It will be the cornerstone of our API consumption in this course. While there are other modules which accomplish the same thing, `requests` is the most straightforward and easiest to use.\n",
    "\n",
    "We'll begin by importing the modules we will need. We do this here so we won't need to include these lines in the other code we write in this lab."
   ]
  },
  {
   "cell_type": "code",
   "execution_count": 13,
   "metadata": {
    "collapsed": true
   },
   "outputs": [],
   "source": [
    "# start by importing the modules we will need\n",
    "import requests\n",
    "import json "
   ]
  },
  {
   "cell_type": "markdown",
   "metadata": {},
   "source": [
    "### The request \n",
    "\n",
    "As you learned in class and your assigned readings, the HTTP protocol has **verbs** which consititue the type of request you will send to the remote resource, or **url**. Based on the url and request type, you will get a **response**.\n",
    "\n",
    "The following line of code makes a **get** request (that's the HTTP verb) to Google's Geocoding API service. This service attempts to convert the address (in this case `Syracuse University`) into a set of coordinates global coordinates (Latitude and Longitude), so that location can be plotted on a map.\n"
   ]
  },
  {
   "cell_type": "code",
   "execution_count": 14,
   "metadata": {
    "collapsed": false
   },
   "outputs": [],
   "source": [
    "url = 'http://maps.googleapis.com/maps/api/geocode/json?address=Syracuse+University'\n",
    "response = requests.get(url)"
   ]
  },
  {
   "cell_type": "markdown",
   "metadata": {},
   "source": [
    "### The response \n",
    "\n",
    "The `get()` method returns a `Response` object variable. I called it `response` in this example but it could be called anything. \n",
    "\n",
    "The HTTP response consists of a *status code* and *body*. The status code lets you know if the request worked, while the body of the response contains the actual data. \n"
   ]
  },
  {
   "cell_type": "code",
   "execution_count": 15,
   "metadata": {
    "collapsed": false
   },
   "outputs": [
    {
     "data": {
      "text/plain": [
       "True"
      ]
     },
     "execution_count": 15,
     "metadata": {},
     "output_type": "execute_result"
    }
   ],
   "source": [
    "response.ok # did the request work?"
   ]
  },
  {
   "cell_type": "code",
   "execution_count": 16,
   "metadata": {
    "collapsed": false
   },
   "outputs": [
    {
     "data": {
      "text/plain": [
       "'{\\n   \"results\" : [\\n      {\\n         \"address_components\" : [\\n            {\\n               \"long_name\" : \"Syracuse\",\\n               \"short_name\" : \"Syracuse\",\\n               \"types\" : [ \"locality\", \"political\" ]\\n            },\\n            {\\n               \"long_name\" : \"Eastside\",\\n               \"short_name\" : \"Eastside\",\\n               \"types\" : [ \"neighborhood\", \"political\" ]\\n            },\\n            {\\n               \"long_name\" : \"Onondaga County\",\\n               \"short_name\" : \"Onondaga County\",\\n               \"types\" : [ \"administrative_area_level_2\", \"political\" ]\\n            },\\n            {\\n               \"long_name\" : \"New York\",\\n               \"short_name\" : \"NY\",\\n               \"types\" : [ \"administrative_area_level_1\", \"political\" ]\\n            },\\n            {\\n               \"long_name\" : \"United States\",\\n               \"short_name\" : \"US\",\\n               \"types\" : [ \"country\", \"political\" ]\\n            },\\n            {\\n               \"long_name\" : \"13210\",\\n               \"short_name\" : \"13210\",\\n               \"types\" : [ \"postal_code\" ]\\n            }\\n         ],\\n         \"formatted_address\" : \"Syracuse, NY 13210, USA\",\\n         \"geometry\" : {\\n            \"location\" : {\\n               \"lat\" : 43.0391534,\\n               \"lng\" : -76.13511579999999\\n            },\\n            \"location_type\" : \"APPROXIMATE\",\\n            \"viewport\" : {\\n               \"northeast\" : {\\n                  \"lat\" : 43.04050238029149,\\n                  \"lng\" : -76.13376681970848\\n               },\\n               \"southwest\" : {\\n                  \"lat\" : 43.03780441970849,\\n                  \"lng\" : -76.13646478029149\\n               }\\n            }\\n         },\\n         \"place_id\" : \"ChIJVcwsup_z2YkRTQhRUgaJYF4\",\\n         \"types\" : [ \"establishment\", \"point_of_interest\", \"university\" ]\\n      }\\n   ],\\n   \"status\" : \"OK\"\\n}\\n'"
      ]
     },
     "execution_count": 16,
     "metadata": {},
     "output_type": "execute_result"
    }
   ],
   "source": [
    "response.text  # what's in the body of the response, as a raw string"
   ]
  },
  {
   "cell_type": "markdown",
   "metadata": {},
   "source": [
    "### Converting responses into Python object variables \n",
    "\n",
    "In the case of **web site url's** the response body is **HTML**. This should be rendered in a web browser. But we're dealing with Web Service API's so...\n",
    "\n",
    "In the case of **web API url's** the response body could be in a variety of formats from **plain text**, to **XML** or **JSON**. In this course we will only focus on JSON format because as we've seen these translate easily into Python object variables.\n",
    "\n",
    "Let's convert the response to a Python object variable. I this case it will be a Python dictionary"
   ]
  },
  {
   "cell_type": "code",
   "execution_count": 17,
   "metadata": {
    "collapsed": false
   },
   "outputs": [
    {
     "data": {
      "text/plain": [
       "{'results': [{'address_components': [{'long_name': 'Syracuse',\n",
       "     'short_name': 'Syracuse',\n",
       "     'types': ['locality', 'political']},\n",
       "    {'long_name': 'Eastside',\n",
       "     'short_name': 'Eastside',\n",
       "     'types': ['neighborhood', 'political']},\n",
       "    {'long_name': 'Onondaga County',\n",
       "     'short_name': 'Onondaga County',\n",
       "     'types': ['administrative_area_level_2', 'political']},\n",
       "    {'long_name': 'New York',\n",
       "     'short_name': 'NY',\n",
       "     'types': ['administrative_area_level_1', 'political']},\n",
       "    {'long_name': 'United States',\n",
       "     'short_name': 'US',\n",
       "     'types': ['country', 'political']},\n",
       "    {'long_name': '13210', 'short_name': '13210', 'types': ['postal_code']}],\n",
       "   'formatted_address': 'Syracuse, NY 13210, USA',\n",
       "   'geometry': {'location': {'lat': 43.0391534, 'lng': -76.1351158},\n",
       "    'location_type': 'APPROXIMATE',\n",
       "    'viewport': {'northeast': {'lat': 43.04050238029149,\n",
       "      'lng': -76.13376681970848},\n",
       "     'southwest': {'lat': 43.03780441970849, 'lng': -76.13646478029149}}},\n",
       "   'place_id': 'ChIJVcwsup_z2YkRTQhRUgaJYF4',\n",
       "   'types': ['establishment', 'point_of_interest', 'university']}],\n",
       " 'status': 'OK'}"
      ]
     },
     "execution_count": 17,
     "metadata": {},
     "output_type": "execute_result"
    }
   ],
   "source": [
    "geodata = response.json()  # try to decode the response from JSON format\n",
    "geodata                    # this is now a Python object variable"
   ]
  },
  {
   "cell_type": "markdown",
   "metadata": {},
   "source": [
    "With our Python object, we can now walk the python object to retrieve the latitude and longitude\n"
   ]
  },
  {
   "cell_type": "code",
   "execution_count": 18,
   "metadata": {
    "collapsed": false
   },
   "outputs": [
    {
     "data": {
      "text/plain": [
       "{'lat': 43.0391534, 'lng': -76.1351158}"
      ]
     },
     "execution_count": 18,
     "metadata": {},
     "output_type": "execute_result"
    }
   ],
   "source": [
    "coords = geodata['results'][0]['geometry']['location']\n",
    "coords"
   ]
  },
  {
   "cell_type": "markdown",
   "metadata": {},
   "source": [
    "In the code above we \"walked\" the Python dictionary to get to the location\n",
    "\n",
    "- `geodata['results']` is a list\n",
    "- `geodata['results'][0]` is the first item in that list, a dictionary\n",
    "- `geodata['results'][0]['geometry']` is a key which represents another dictionary\n",
    "- `geodata['results'][0]['geometry']['location']` is a key which contains the dictionary we want!\n",
    "\n",
    "It should be noted that this process will vary for each API you call, so its important to get accustomed to performing this task. You'll be doing it quite often. "
   ]
  },
  {
   "cell_type": "markdown",
   "metadata": {},
   "source": [
    "### Now You Try It!\n",
    "\n",
    "Walk the `geodata` object variable and reteieve the value under the key `place_id` and the `formatted_address`"
   ]
  },
  {
   "cell_type": "code",
   "execution_count": 19,
   "metadata": {
    "collapsed": false
   },
   "outputs": [
    {
     "name": "stdout",
     "output_type": "stream",
     "text": [
      "ChIJVcwsup_z2YkRTQhRUgaJYF4 Syracuse, NY 13210, USA\n"
     ]
    }
   ],
   "source": [
    "# todo:\n",
    "# retrieve the place_id put in a variable\n",
    "# retrieve the formatted_address put it in a variable\n",
    "# print both of them out\n",
    "\n",
    "print_id=geodata['results'][0]['place_id']\n",
    "formatted_address=geodata['results'][0]['formatted_address']\n",
    "print(print_id,formatted_address)\n"
   ]
  },
  {
   "cell_type": "markdown",
   "metadata": {},
   "source": [
    "## Part 2: Parameter Handling\n",
    "\n",
    "In the example above we hard-coded \"Syracuse University\" into the request:\n",
    "```\n",
    "url = 'http://maps.googleapis.com/maps/api/geocode/json?address=Syracuse+University'\n",
    "``` \n",
    "A better way to write this code is to allow for the input of any location and supply that to the service. To make this work we need to send parameters into the request as a dictionary. This way we can geolocate any address!\n",
    "\n",
    "You'll notice that on the url, we are passing a **key-value pair** the key is `address` and the value is `Syracuse+University`. Python dictionaries are also key-value pairs, so:"
   ]
  },
  {
   "cell_type": "code",
   "execution_count": 20,
   "metadata": {
    "collapsed": false
   },
   "outputs": [
    {
     "name": "stdout",
     "output_type": "stream",
     "text": [
      "Address {'address': 'Syracuse University'}\n",
      "Coordinates {'lng': -76.1351158, 'lat': 43.0391534}\n",
      "Syracuse University is located at (43.039153,-76.135116)\n"
     ]
    }
   ],
   "source": [
    "url = 'http://maps.googleapis.com/maps/api/geocode/json'  # base URL without paramters after the \"?\"\n",
    "options = { 'address' : 'Syracuse University'}            # options['address'] == 'Syracuse University'\n",
    "response = requests.get(url, params = options)            \n",
    "geodata = response.json()\n",
    "coords = geodata['results'][0]['geometry']['location']\n",
    "print(\"Address\", options)\n",
    "print(\"Coordinates\", coords)\n",
    "print(\"%s is located at (%f,%f)\" %(options['address'], coords['lat'], coords['lng']))"
   ]
  },
  {
   "cell_type": "markdown",
   "metadata": {},
   "source": [
    "### Looking up any address\n",
    "\n",
    "RECALL: For `requests.get(url, params = options)` the part that says `params = options` is called a **named argument**, which is Python's way of specifying an optional function argument.\n",
    "\n",
    "With our parameter now outside the url, we can easily re-write this code to work for any location! Go ahead and execute the code and input `Queens, NY`. This will retrieve the coordinates `(40.728224,-73.794852)`"
   ]
  },
  {
   "cell_type": "code",
   "execution_count": null,
   "metadata": {
    "collapsed": false
   },
   "outputs": [],
   "source": [
    "location = input(\"Enter a location: \")\n",
    "\n",
    "url = 'http://maps.googleapis.com/maps/api/geocode/json'\n",
    "options = { 'address' : location }  # no longer 'Syracuse University' but whatever you type!\n",
    "response = requests.get(url, params = options)            \n",
    "geodata = response.json()\n",
    "coords = geodata['results'][0]['geometry']['location']\n",
    "print(\"Address\", options)\n",
    "print(\"Coordinates\", coords)\n",
    "print(\"%s is located at (%f,%f)\" %(location, coords['lat'], coords['lng']))"
   ]
  },
  {
   "cell_type": "markdown",
   "metadata": {},
   "source": [
    "### So useful, it should be a function\n",
    "\n",
    "One thing you'll come to realize quickly is that your API calls should be wrapped in functions. This promotes **readability** and **code re-use**. For example:"
   ]
  },
  {
   "cell_type": "code",
   "execution_count": 20,
   "metadata": {
    "collapsed": false
   },
   "outputs": [
    {
     "name": "stdout",
     "output_type": "stream",
     "text": [
      "Enter a location: Syracuse\n",
      "Syracuse is located at (43.048122,-76.147424)\n"
     ]
    }
   ],
   "source": [
    "def get_coordinates_using_google(location):\n",
    "    options = { 'address' : location }  \n",
    "    response = requests.get(url, params = options)            \n",
    "    geodata = response.json()\n",
    "    coords = geodata['results'][0]['geometry']['location']\n",
    "    return coords\n",
    "\n",
    "# main program here:\n",
    "location = input(\"Enter a location: \")\n",
    "coords = get_coordinates_using_google(location)\n",
    "print(\"%s is located at (%f,%f)\" %(location, coords['lat'], coords['lng']))\n"
   ]
  },
  {
   "cell_type": "markdown",
   "metadata": {},
   "source": [
    "### Other request methods\n",
    "\n",
    "Not every API we call uses the `get()` method. Some use `post()` because the amount of data you provide it too large to place on the url. \n",
    "\n",
    "An example of this is the **Text-Processing.com** sentiment analysis service. http://text-processing.com/docs/sentiment.html This service will detect the sentiment or mood of text. You give the service some text, and it tells you whether that text is positive, negative or neutral. "
   ]
  },
  {
   "cell_type": "code",
   "execution_count": 23,
   "metadata": {
    "collapsed": false
   },
   "outputs": [
    {
     "data": {
      "text/plain": [
       "{'label': 'neg',\n",
       " 'probability': {'neg': 0.520097595188211,\n",
       "  'neutral': 0.3886824782142297,\n",
       "  'pos': 0.479902404811789}}"
      ]
     },
     "execution_count": 23,
     "metadata": {},
     "output_type": "execute_result"
    }
   ],
   "source": [
    "# 'you suck' == 'negative'\n",
    "url = 'http://text-processing.com/api/sentiment/'\n",
    "options = { 'text' : 'you suck'}\n",
    "response = requests.post(url, data = options)\n",
    "sentiment = response.json()\n",
    "sentiment"
   ]
  },
  {
   "cell_type": "code",
   "execution_count": 24,
   "metadata": {
    "collapsed": false
   },
   "outputs": [
    {
     "data": {
      "text/plain": [
       "{'label': 'pos',\n",
       " 'probability': {'neg': 0.3866732207796809,\n",
       "  'neutral': 0.18366003088446245,\n",
       "  'pos': 0.6133267792203191}}"
      ]
     },
     "execution_count": 24,
     "metadata": {},
     "output_type": "execute_result"
    }
   ],
   "source": [
    "# 'I love cheese' == 'positive'\n",
    "url = 'http://text-processing.com/api/sentiment/'\n",
    "options = { 'text' : 'I love cheese'}\n",
    "response = requests.post(url, data = options)\n",
    "sentiment = response.json()\n",
    "sentiment"
   ]
  },
  {
   "cell_type": "markdown",
   "metadata": {},
   "source": [
    "In the examples provided we used the `post()` method instead of the `get()` method. the `post()` method has a named argument `data` which takes a dictionary of data. The key required by **text-processing.com** is `text` which hold the text you would like to process for sentiment.\n",
    "\n",
    "We use a post in the event the text we wish to process is very long. Case in point:"
   ]
  },
  {
   "cell_type": "code",
   "execution_count": 25,
   "metadata": {
    "collapsed": false
   },
   "outputs": [
    {
     "data": {
      "text/plain": [
       "{'label': 'neg',\n",
       " 'probability': {'neg': 0.8574162710846805,\n",
       "  'neutral': 0.41809934640572893,\n",
       "  'pos': 0.14258372891531948}}"
      ]
     },
     "execution_count": 25,
     "metadata": {},
     "output_type": "execute_result"
    }
   ],
   "source": [
    "tweet = \"Arnold Schwarzenegger isn't voluntarily leaving the Apprentice, he was fired by his bad (pathetic) ratings, not by me. Sad end to great show\"\n",
    "url = 'http://text-processing.com/api/sentiment/'\n",
    "options = { 'text' : tweet }\n",
    "response = requests.post(url, data = options)\n",
    "sentiment = response.json()\n",
    "sentiment"
   ]
  },
  {
   "cell_type": "markdown",
   "metadata": {},
   "source": [
    "\n",
    "## Part 3: Proper Error Handling (In 3 Simple Rules)\n",
    "\n",
    "When you write code that depends on other people's code from around the Internet, there's a lot that can go wrong. Therefore we perscribe the following advice:\n",
    "\n",
    "```\n",
    "Assume anything that CAN go wrong WILL go wrong\n",
    "```\n"
   ]
  },
  {
   "cell_type": "markdown",
   "metadata": {},
   "source": [
    "### Rule 1: Don't assume the internet 'always works'\n",
    "\n",
    "The first rule of programming over a network is to NEVER assume the network is available. You need to assume the worst. No WiFi, user types in a bad url, the remote website is down, etc. \n",
    "\n",
    "We handle this in the `requests` module by catching the `requests.exceptions.RequestException` Here's an example:"
   ]
  },
  {
   "cell_type": "code",
   "execution_count": 2,
   "metadata": {
    "collapsed": false
   },
   "outputs": [
    {
     "ename": "NameError",
     "evalue": "name 'requests' is not defined",
     "output_type": "error",
     "traceback": [
      "\u001b[0;31m---------------------------------------------------------------------------\u001b[0m",
      "\u001b[0;31mNameError\u001b[0m                                 Traceback (most recent call last)",
      "\u001b[0;32m<ipython-input-2-1eb592854173>\u001b[0m in \u001b[0;36m<module>\u001b[0;34m()\u001b[0m\n\u001b[1;32m      3\u001b[0m \u001b[0;34m\u001b[0m\u001b[0m\n\u001b[0;32m----> 4\u001b[0;31m     \u001b[0mresponse\u001b[0m \u001b[0;34m=\u001b[0m \u001b[0mrequests\u001b[0m\u001b[0;34m.\u001b[0m\u001b[0mget\u001b[0m\u001b[0;34m(\u001b[0m\u001b[0murl\u001b[0m\u001b[0;34m)\u001b[0m  \u001b[0;31m# throws an exception when it cannot connect\u001b[0m\u001b[0;34m\u001b[0m\u001b[0m\n\u001b[0m\u001b[1;32m      5\u001b[0m \u001b[0;34m\u001b[0m\u001b[0m\n",
      "\u001b[0;31mNameError\u001b[0m: name 'requests' is not defined",
      "\nDuring handling of the above exception, another exception occurred:\n",
      "\u001b[0;31mNameError\u001b[0m                                 Traceback (most recent call last)",
      "\u001b[0;32m<ipython-input-2-1eb592854173>\u001b[0m in \u001b[0;36m<module>\u001b[0;34m()\u001b[0m\n\u001b[1;32m      5\u001b[0m \u001b[0;34m\u001b[0m\u001b[0m\n\u001b[1;32m      6\u001b[0m \u001b[0;31m# internet is broken\u001b[0m\u001b[0;34m\u001b[0m\u001b[0;34m\u001b[0m\u001b[0m\n\u001b[0;32m----> 7\u001b[0;31m \u001b[0;32mexcept\u001b[0m \u001b[0mrequests\u001b[0m\u001b[0;34m.\u001b[0m\u001b[0mexceptions\u001b[0m\u001b[0;34m.\u001b[0m\u001b[0mRequestException\u001b[0m \u001b[0;32mas\u001b[0m \u001b[0me\u001b[0m\u001b[0;34m:\u001b[0m\u001b[0;34m\u001b[0m\u001b[0m\n\u001b[0m\u001b[1;32m      8\u001b[0m     \u001b[0mprint\u001b[0m\u001b[0;34m(\u001b[0m\u001b[0;34m\"ERROR: Cannot connect to \"\u001b[0m\u001b[0;34m,\u001b[0m \u001b[0murl\u001b[0m\u001b[0;34m)\u001b[0m\u001b[0;34m\u001b[0m\u001b[0m\n\u001b[1;32m      9\u001b[0m     \u001b[0mprint\u001b[0m\u001b[0;34m(\u001b[0m\u001b[0;34m\"DETAILS:\"\u001b[0m\u001b[0;34m,\u001b[0m \u001b[0me\u001b[0m\u001b[0;34m)\u001b[0m\u001b[0;34m\u001b[0m\u001b[0m\n",
      "\u001b[0;31mNameError\u001b[0m: name 'requests' is not defined"
     ]
    }
   ],
   "source": [
    "url = \"http://this is not a website\"\n",
    "try:\n",
    "\n",
    "    response = requests.get(url)  # throws an exception when it cannot connect\n",
    "\n",
    "# internet is broken\n",
    "except requests.exceptions.RequestException as e:\n",
    "    print(\"ERROR: Cannot connect to \", url)\n",
    "    print(\"DETAILS:\", e)"
   ]
  },
  {
   "cell_type": "markdown",
   "metadata": {},
   "source": [
    "### Rule 2: Don't assume the response you get back is valid\n",
    "\n",
    "Assuming the internet is not broken (Rule 1) You should now check for HTTP response 200 which means the url responded successfully.  Other responses like 404 or 501 indicate an error occured and that means you should not keep processing the response.\n",
    "\n",
    "Here's one way to do it:"
   ]
  },
  {
   "cell_type": "code",
   "execution_count": 27,
   "metadata": {
    "collapsed": false
   },
   "outputs": [
    {
     "name": "stdout",
     "output_type": "stream",
     "text": [
      "There was an Error requesting: http://www.syr.edu/mikeisawesum  HTTP Response Code:  404\n"
     ]
    }
   ],
   "source": [
    "url = 'http://www.syr.edu/mikeisawesum'  # this should 404\n",
    "try:\n",
    "    \n",
    "    response = requests.get(url)\n",
    "    \n",
    "    if response.ok:  # same as response.status_code == 200\n",
    "        data = response.text\n",
    "    else: # Some other non 200 response code\n",
    "        print(\"There was an Error requesting:\", url, \" HTTP Response Code: \", response.status_code)\n",
    "\n",
    "# internet is broken\n",
    "except requests.exceptions.RequestException as e: \n",
    "    print(\"ERROR: Cannot connect to \", url)\n",
    "    print(\"DETAILS:\", e)\n"
   ]
  },
  {
   "cell_type": "markdown",
   "metadata": {},
   "source": [
    "### Rule 2a: Use exceptions instead of if else in this case\n",
    "\n",
    "Personally I don't like to use `if ... else` to handle an error. Instead, I prefer to instruct `requests` to throw an exception of `requests.exceptions.HTTPError` whenever the response is not ok. This makes the code you write a little cleaner.\n",
    "\n",
    "Errors are rare occurences, and so I  don't like error handling cluttering up my code. \n"
   ]
  },
  {
   "cell_type": "code",
   "execution_count": 28,
   "metadata": {
    "collapsed": false
   },
   "outputs": [
    {
     "name": "stdout",
     "output_type": "stream",
     "text": [
      "ERROR: Response from  http://www.syr.edu/mikeisawesum was not ok.\n",
      "DETAILS: 404 Client Error: Not Found for url: https://www.syracuse.edu/mikeisawesum\n"
     ]
    }
   ],
   "source": [
    "url = 'http://www.syr.edu/mikeisawesum'  # this should 404\n",
    "try:\n",
    "    \n",
    "    response = requests.get(url)  # throws an exception when it cannot connect\n",
    "    response.raise_for_status()   # throws an exception when not 'ok'\n",
    "    data = response.text\n",
    "\n",
    "# response not ok\n",
    "except requests.exceptions.HTTPError as e:\n",
    "    print(\"ERROR: Response from \", url, 'was not ok.')\n",
    "    print(\"DETAILS:\", e)\n",
    "        \n",
    "# internet is broken\n",
    "except requests.exceptions.RequestException as e: \n",
    "    print(\"ERROR: Cannot connect to \", url)\n",
    "    print(\"DETAILS:\", e)\n"
   ]
  },
  {
   "cell_type": "markdown",
   "metadata": {},
   "source": [
    "###  Rule 3: Don't assume the data you get back is the data you expect.\n",
    "\n",
    "And finally, do not assume the data arriving the the `response` is the data you expected. Specifically when you try and decode the `JSON` don't assume that will go smoothly. Catch the `json.decoder.JSONDecodeError`."
   ]
  },
  {
   "cell_type": "code",
   "execution_count": 29,
   "metadata": {
    "collapsed": false
   },
   "outputs": [
    {
     "name": "stdout",
     "output_type": "stream",
     "text": [
      "ERROR: Cannot decode the response into json\n",
      "DETAILS Expecting value: line 1 column 1 (char 0)\n"
     ]
    }
   ],
   "source": [
    "url = 'http://www.syr.edu' # this is HTML, not JSON\n",
    "try:\n",
    "\n",
    "    response = requests.get(url)  # throws an exception when it cannot connect\n",
    "    response.raise_for_status()   # throws an exception when not 'ok'\n",
    "    data = response.json()        # throws an exception when cannot decode json\n",
    "    \n",
    "# cannot decode json\n",
    "except json.decoder.JSONDecodeError as e: \n",
    "    print(\"ERROR: Cannot decode the response into json\")\n",
    "    print(\"DETAILS\", e)\n",
    "\n",
    "# response not ok\n",
    "except requests.exceptions.HTTPError as e:\n",
    "    print(\"ERROR: Response from \", url, 'was not ok.')\n",
    "    print(\"DETAILS:\", e)\n",
    "        \n",
    "# internet is broken\n",
    "except requests.exceptions.RequestException as e: \n",
    "    print(\"ERROR: Cannot connect to \", url)\n",
    "    print(\"DETAILS:\", e)"
   ]
  },
  {
   "cell_type": "markdown",
   "metadata": {},
   "source": [
    "### Now You try it!\n",
    "\n",
    "Using the last example above, write a program to input a location, call the `get_coordinates_using_google()` function, then print the coordindates. Make sure to handle all three types of exceptions!!!\n"
   ]
  },
  {
   "cell_type": "code",
   "execution_count": 12,
   "metadata": {
    "collapsed": false
   },
   "outputs": [
    {
     "name": "stdout",
     "output_type": "stream",
     "text": [
      "Input the location heresyracuse\n",
      "syracuse is located at (43.048122,-76.147424)\n"
     ]
    }
   ],
   "source": [
    "url = 'http://maps.googleapis.com/maps/api/geocode/json'\n",
    "import requests\n",
    "\n",
    "def get_coordinates_using_google(location):\n",
    "    options = { 'address' : location }  \n",
    "\n",
    "    try:\n",
    "        response = requests.get(url, params=options )\n",
    "        geodata = response.json() # throws an exception when not 'ok'\n",
    "        coords = geodata['results'][0]['geometry']['location']\n",
    "# cannot decode json\n",
    "    except json.decoder.JSONDecodeError as e: \n",
    "        print(\"ERROR: Cannot decode the response into json\")\n",
    "        print(\"DETAILS\", e)\n",
    "\n",
    "# response not ok\n",
    "    except requests.exceptions.HTTPError as e:\n",
    "        print(\"ERROR: Response from \", url, 'was not ok.')\n",
    "        print(\"DETAILS:\", e)\n",
    "\n",
    "    # internet is broken\n",
    "    except requests.exceptions.RequestException as e: \n",
    "        print(\"ERROR: Cannot connect to \", url)\n",
    "        print(\"DETAILS:\", e)\n",
    "        \n",
    "    return coords\n",
    "\n",
    "location=input(\"Input the location here\")\n",
    "coords = get_coordinates_using_google(location)\n",
    "\n",
    "print(\"%s is located at (%f,%f)\" %(location, coords['lat'], coords['lng']))"
   ]
  },
  {
   "cell_type": "code",
   "execution_count": null,
   "metadata": {
    "collapsed": true
   },
   "outputs": [],
   "source": []
  }
 ],
 "metadata": {
  "anaconda-cloud": {},
  "kernelspec": {
   "display_name": "Python 3",
   "language": "python",
   "name": "python3"
  },
  "language_info": {
   "codemirror_mode": {
    "name": "ipython",
    "version": 3
   },
   "file_extension": ".py",
   "mimetype": "text/x-python",
   "name": "python",
   "nbconvert_exporter": "python",
   "pygments_lexer": "ipython3",
   "version": "3.5.2"
  }
 },
 "nbformat": 4,
 "nbformat_minor": 0
}
