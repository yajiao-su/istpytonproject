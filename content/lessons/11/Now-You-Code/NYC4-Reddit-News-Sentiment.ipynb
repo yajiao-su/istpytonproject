{
 "cells": [
  {
   "cell_type": "markdown",
   "metadata": {},
   "source": [
    "# Now You Code 4: Reddit News Sentiment Analysis\n",
    "\n",
    "In this assignment you're tasked with performing a sentiment analysis on top Reddit news articles. (`https://www.reddit.com/r/news/top.json`)\n",
    "\n",
    "You should perform the analysis on the titles only. \n",
    "\n",
    "Start by getting the Reddit API to work, and extracting a list of titles only. You'll have to research the Reddit API, and can do so here: https://www.reddit.com/dev/api/ The Reddit API requires a custom 'User-Agent' You must specify this in your headers, as explained here: https://github.com/reddit/reddit/wiki/API \n",
    "\n",
    "\n",
    "After you get Reddit working move on to sentiment analysis. Once again, we will use (`http://text-processing.com/api/sentiment/`) like we did in the in-class coding lab. \n",
    "\n",
    "Start by getting the sentiment analysis working for a single title. Then write your program to loop over each title runnning the sentiment analysis and printing both the sentiment and the title, like this:\n",
    "\n",
    "Example Run (Your output will vary as news stories change...)\n",
    "\n",
    "```\n",
    "neutral : FBI Chief Comey 'Rejects' Phone Tap Allegation\n",
    "pos : New Peeps-flavored Oreos reportedly turning people's poop pink\n",
    "neutral : President Trump Signs Revised Travel Ban Executive Order\n",
    "neutral : Police: Overdose survivors to be charged with misdemeanor\n",
    "neutral : Struggling students forced to wait 3-4 weeks as Utah's public colleges don't have enough mental health therapists\n",
    "neutral : Army Veteran Faces Possible Deportation to Mexico\n",
    "neutral : Rep. Scott Taylor called out at town hall for ‘blocking’ constituents on social media\n",
    "neutral : GM to suspend third shift at Delta Township plant, layoff 1,100 workers\n",
    "neutral : American citizen Khizr Khan reportedly cancels trip to Canada after being warned his 'travel privileges are being reviewed'\n",
    "neg : Mars far more likely to have had life than we thought, researchers find after new water discovery\n",
    "neutral : Bird Flu Found at U.S. Farm That Supplies Chickens to Tyson\n",
    "neutral : Investigation Reveals Huge Volume of Shark Fins Evading International Shipping Bans\n",
    "neg : Sikh man's shooting in Washington investigated as hate crime\n",
    "```"
   ]
  },
  {
   "cell_type": "code",
   "execution_count": null,
   "metadata": {
    "collapsed": true
   },
   "outputs": [],
   "source": [
    "# Write your plan (todo list) here\n"
   ]
  },
  {
   "cell_type": "code",
   "execution_count": 1,
   "metadata": {
    "collapsed": false
   },
   "outputs": [],
   "source": [
    "#todo write code here. \n"
   ]
  }
 ],
 "metadata": {
  "anaconda-cloud": {},
  "kernelspec": {
   "display_name": "Python [default]",
   "language": "python",
   "name": "python3"
  },
  "language_info": {
   "codemirror_mode": {
    "name": "ipython",
    "version": 3
   },
   "file_extension": ".py",
   "mimetype": "text/x-python",
   "name": "python",
   "nbconvert_exporter": "python",
   "pygments_lexer": "ipython3",
   "version": "3.5.2"
  }
 },
 "nbformat": 4,
 "nbformat_minor": 0
}
