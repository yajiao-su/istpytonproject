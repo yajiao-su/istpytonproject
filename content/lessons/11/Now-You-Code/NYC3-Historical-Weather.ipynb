{
 "cells": [
  {
   "cell_type": "markdown",
   "metadata": {},
   "source": [
    "# Now You Code 3: Syracuse Historical Weather\n",
    "\n",
    "Write a program to prompt a user to input a date and time string, and then  it should report the temperature and weather conditions at that day and time for Syracuse, NY.\n",
    "\n",
    "To lookup the weather you will need to use the Dark Sky Time Machine: https://darksky.net/dev/docs/time-machine \n",
    "\n",
    "The date and time that the user inputs must be in the following format: `YYYY-MM-DDThh:mm:ss` for example January 7, 2016 at 4:30pm would be: `2016-01-07T16:30:00`\n",
    "\n",
    "Be sure to use the GPS coordinates for Syracuse, NY which are (lat=43.048122,lng=-76.147424)\n",
    "\n",
    "Example Run (Based on the exchange rates from 2017-03-06:\n",
    "\n",
    "```\n",
    "Enter the amount in USD you wish to exchange: 100\n",
    "100.00 in USD is 94.41 in EUR\n",
    "100.00 in USD is 81.48 in GBP\n",
    "```\n"
   ]
  },
  {
   "cell_type": "code",
   "execution_count": null,
   "metadata": {
    "collapsed": true
   },
   "outputs": [],
   "source": [
    "# Write your plan (todo list) here\n"
   ]
  },
  {
   "cell_type": "code",
   "execution_count": null,
   "metadata": {
    "collapsed": false
   },
   "outputs": [],
   "source": [
    "#todo write code here. \n"
   ]
  }
 ],
 "metadata": {
  "kernelspec": {
   "display_name": "Python [default]",
   "language": "python",
   "name": "python3"
  },
  "language_info": {
   "codemirror_mode": {
    "name": "ipython",
    "version": 3
   },
   "file_extension": ".py",
   "mimetype": "text/x-python",
   "name": "python",
   "nbconvert_exporter": "python",
   "pygments_lexer": "ipython3",
   "version": "3.5.2"
  }
 },
 "nbformat": 4,
 "nbformat_minor": 0
}
