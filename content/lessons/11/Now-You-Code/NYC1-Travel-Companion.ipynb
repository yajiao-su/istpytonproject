{
 "cells": [
  {
   "cell_type": "markdown",
   "metadata": {},
   "source": [
    "# Now You Code 1: Travel Companion\n",
    "\n",
    "You're heading to Europe! Write a program which when you input an amount of money in USD will convert that to GBP (British Pounts) and EUR (Euro Dollars).\n",
    "\n",
    "The program should use the API: http://fixer.io/  to calculate the exchange rates. You must read and review the API before beginning.\n",
    "\n",
    "Example Run (Based on the exchange rates from 2017-03-06:\n",
    "\n",
    "```\n",
    "Enter the amount in USD you wish to exchange: 100\n",
    "100.00 in USD is 94.41 in EUR\n",
    "100.00 in USD is 81.48 in GBP\n",
    "```\n"
   ]
  },
  {
   "cell_type": "code",
   "execution_count": null,
   "metadata": {
    "collapsed": true
   },
   "outputs": [],
   "source": [
    "# Write your plan (todo list) here\n"
   ]
  },
  {
   "cell_type": "code",
   "execution_count": 5,
   "metadata": {
    "collapsed": false
   },
   "outputs": [
    {
     "name": "stdout",
     "output_type": "stream",
     "text": [
      "Enter the amount in USD you wish to exchange: 100\n",
      "100.00 in USD is 94.41 in EUR\n",
      "100.00 in USD is 81.48 in GBP\n"
     ]
    }
   ],
   "source": [
    "#todo write code here. \n"
   ]
  },
  {
   "cell_type": "code",
   "execution_count": null,
   "metadata": {
    "collapsed": true
   },
   "outputs": [],
   "source": []
  }
 ],
 "metadata": {
  "kernelspec": {
   "display_name": "Python [default]",
   "language": "python",
   "name": "python3"
  },
  "language_info": {
   "codemirror_mode": {
    "name": "ipython",
    "version": 3
   },
   "file_extension": ".py",
   "mimetype": "text/x-python",
   "name": "python",
   "nbconvert_exporter": "python",
   "pygments_lexer": "ipython3",
   "version": "3.5.2"
  }
 },
 "nbformat": 4,
 "nbformat_minor": 0
}
