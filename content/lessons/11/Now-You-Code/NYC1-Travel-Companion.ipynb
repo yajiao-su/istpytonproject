{
 "cells": [
  {
   "cell_type": "markdown",
   "metadata": {},
   "source": [
    "# Now You Code 1: Travel Companion\n",
    "\n",
    "You're heading to Europe! Write a program which when you input an amount of money in USD will convert that to GBP (British Pounts) and EUR (Euro Dollars).\n",
    "\n",
    "The program should use the API: http://fixer.io/  to calculate the exchange rates. You must read and review the API before beginning.\n",
    "\n",
    "Example Run (Based on the exchange rates from 2017-03-06:\n",
    "\n",
    "```\n",
    "Enter the amount in USD you wish to exchange: 100\n",
    "100.00 in USD is 94.41 in EUR\n",
    "100.00 in USD is 81.48 in GBP\n",
    "```\n"
   ]
  },
  {
   "cell_type": "code",
   "execution_count": 1,
   "metadata": {
    "collapsed": true
   },
   "outputs": [],
   "source": [
    "# Write your plan (todo list) here\n",
    "#import request and json\n",
    "#find out url\n",
    "#get response and json\n",
    "#take out the EUR and GBP from the list\n",
    "#set input\n",
    "#print out"
   ]
  },
  {
   "cell_type": "code",
   "execution_count": null,
   "metadata": {
    "collapsed": false
   },
   "outputs": [],
   "source": [
    "import requests\n",
    "import json\n",
    "\n",
    "url=\"http://api.fixer.io/latest\"\n",
    "params={'base':'USD'}\n",
    "response=requests.get(url,params=params)\n",
    "rates=response.json()\n",
    "rates\n",
    "\n",
    "a=float(input(\"Enter the amount of money you want to convert\"))\n",
    "b=rates['rates']['EUR']\n",
    "c=rates['rates']['GBP']\n",
    "money_in_b=a*float(b)\n",
    "money_in_c=a*float(c)\n",
    "\n",
    "print(\"%f in USD is %f in EUR and %f in GBP\" % (a,money_in_a,money_in_b))"
   ]
  },
  {
   "cell_type": "code",
   "execution_count": null,
   "metadata": {
    "collapsed": true
   },
   "outputs": [],
   "source": []
  }
 ],
 "metadata": {
  "kernelspec": {
   "display_name": "Python 3",
   "language": "python",
   "name": "python3"
  },
  "language_info": {
   "codemirror_mode": {
    "name": "ipython",
    "version": 3
   },
   "file_extension": ".py",
   "mimetype": "text/x-python",
   "name": "python",
   "nbconvert_exporter": "python",
   "pygments_lexer": "ipython3",
   "version": "3.5.2"
  }
 },
 "nbformat": 4,
 "nbformat_minor": 0
}
