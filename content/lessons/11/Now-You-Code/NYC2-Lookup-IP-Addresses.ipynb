{
 "cells": [
  {
   "cell_type": "markdown",
   "metadata": {},
   "source": [
    "# Now You Code 2: IP Addresses\n",
    "\n",
    "For this Now You Code, you will complete a very common task in data analytics: converting an IP address to an approximate location.\n",
    "\n",
    "Write a program to read the IP Addresses from the File `NYC2-IP-Addresses.txt` and for each IP address determine the approximate location (City and State) for the origin of that IP Address. This is usually done as part of analytics to determine the origins of website visitors. \n",
    "\n",
    "To perform the lookups, use the http://freegeoip.net API. You'll have to read through the API documentation first and understand how to use the API before you write the entire program.  \n",
    "\n",
    "As a first step I highly recommed that you get just the IP lookup working, perhaps writing it as a function,  and then try to read from the file and perform the lookups for each IP address in the file.\n",
    "\n",
    "Here's a sample of a geoip lookup of the IP Address `'128.230.182.217'`\n",
    "\n",
    "```\n",
    "{'city': 'Syracuse',\n",
    " 'country_code': 'US',\n",
    " 'country_name': 'United States',\n",
    " 'ip': '128.230.182.217',\n",
    " 'latitude': 43.0377,\n",
    " 'longitude': -76.1396,\n",
    " 'metro_code': 555,\n",
    " 'region_code': 'NY',\n",
    " 'region_name': 'New York',\n",
    " 'time_zone': 'America/New_York',\n",
    " 'zip_code': '13244'}\n",
    "```\n",
    "\n",
    "In this example the city and state would be `Syracuse, NY`\n",
    "\n",
    "\n",
    "Final Program Output:\n",
    "\n",
    "```\n",
    "IP: 128.122.140.238 LOCATION: New York,NY\n",
    "IP: 23.112.232.160 LOCATION: Green Bay,WI\n",
    "IP: 23.192.215.44 LOCATION: Cambridge,MA\n",
    "IP: 23.224.160.4 LOCATION: Cheyenne,WY\n",
    "IP: 23.230.12.5 LOCATION: San Jose,CA\n",
    "IP: 23.80.125.101 LOCATION: Phoenix,AZ\n",
    "IP: 23.83.132.200 LOCATION: Phoenix,AZ\n",
    "IP: 23.88.15.5 LOCATION: Los Angeles,CA\n",
    "IP: 24.0.14.56 LOCATION: Iselin,NJ\n",
    "IP: 24.1.25.140 LOCATION: Chicago,IL\n",
    "IP: 24.11.125.10 LOCATION: Orem,UT\n",
    "IP: 24.38.114.105 LOCATION: Matawan,NJ\n",
    "IP: 24.38.224.161 LOCATION: Darien,CT\n",
    "IP: 56.216.127.219 LOCATION: Raleigh,NC\n",
    "IP: 68.199.40.156 LOCATION: Elmont,NY\n",
    "IP: 74.111.18.59 LOCATION: Auburn,NY\n",
    "IP: 74.111.6.173 LOCATION: Liverpool,NY\n",
    "IP: 98.29.25.44 LOCATION: Dayton,OH\n",
    "```\n"
   ]
  },
  {
   "cell_type": "code",
   "execution_count": null,
   "metadata": {
    "collapsed": true
   },
   "outputs": [],
   "source": [
    "# todo write logic (todo list here)\n"
   ]
  },
  {
   "cell_type": "code",
   "execution_count": 8,
   "metadata": {
    "collapsed": false
   },
   "outputs": [
    {
     "ename": "NameError",
     "evalue": "name 'response' is not defined",
     "output_type": "error",
     "traceback": [
      "\u001b[0;31m---------------------------------------------------------------------------\u001b[0m",
      "\u001b[0;31mNameError\u001b[0m                                 Traceback (most recent call last)",
      "\u001b[0;32m<ipython-input-8-e397f71a5fe8>\u001b[0m in \u001b[0;36m<module>\u001b[0;34m()\u001b[0m\n\u001b[1;32m      1\u001b[0m \u001b[0murl\u001b[0m\u001b[0;34m=\u001b[0m\u001b[0;34m'freegeoip.net/json'\u001b[0m\u001b[0;34m\u001b[0m\u001b[0m\n\u001b[1;32m      2\u001b[0m \u001b[0;34m\u001b[0m\u001b[0m\n\u001b[0;32m----> 3\u001b[0;31m \u001b[0mresponse\u001b[0m\u001b[0;34m=\u001b[0m\u001b[0mresponse\u001b[0m\u001b[0;34m.\u001b[0m\u001b[0mget\u001b[0m\u001b[0;34m(\u001b[0m\u001b[0murl\u001b[0m\u001b[0;34m,\u001b[0m\u001b[0mparams\u001b[0m\u001b[0;34m=\u001b[0m\u001b[0mparams\u001b[0m\u001b[0;34m)\u001b[0m\u001b[0;34m\u001b[0m\u001b[0m\n\u001b[0m\u001b[1;32m      4\u001b[0m \u001b[0mgeoip\u001b[0m\u001b[0;34m=\u001b[0m\u001b[0mresponse\u001b[0m\u001b[0;34m.\u001b[0m\u001b[0mjson\u001b[0m\u001b[0;34m(\u001b[0m\u001b[0;34m)\u001b[0m\u001b[0;34m\u001b[0m\u001b[0m\n\u001b[1;32m      5\u001b[0m \u001b[0mparams\u001b[0m\u001b[0;34m=\u001b[0m\u001b[0;34m{\u001b[0m\u001b[0mcity\u001b[0m\u001b[0;34m:\u001b[0m\u001b[0;34m'city'\u001b[0m\u001b[0;34m}\u001b[0m\u001b[0;34m\u001b[0m\u001b[0m\n",
      "\u001b[0;31mNameError\u001b[0m: name 'response' is not defined"
     ]
    }
   ],
   "source": []
  },
  {
   "cell_type": "code",
   "execution_count": 31,
   "metadata": {
    "collapsed": false
   },
   "outputs": [
    {
     "name": "stdout",
     "output_type": "stream",
     "text": [
      "ip:128.122.140.238 Location: New York NY\n",
      "ip:23.112.232.160 Location: Green Bay WI\n",
      "ip:23.192.215.44 Location: Cambridge MA\n",
      "ip:23.224.160.4 Location: Cheyenne WY\n",
      "ip:23.230.12.5 Location: San Jose CA\n",
      "ip:23.80.125.101 Location: Phoenix AZ\n",
      "ip:23.83.132.200 Location: Phoenix AZ\n",
      "ip:23.88.15.5 Location: Los Angeles CA\n",
      "ip:24.0.14.56 Location: Iselin NJ\n",
      "ip:24.1.25.140 Location: Chicago IL\n",
      "ip:24.11.125.10 Location: Orem UT\n",
      "ip:24.38.114.105 Location: Matawan NJ\n",
      "ip:24.38.224.161 Location: Darien CT\n",
      "ip:56.216.127.219 Location: Raleigh NC\n",
      "ip:68.199.40.156 Location: Elmont NY\n",
      "ip:74.111.18.59 Location: Auburn NY\n",
      "ip:74.111.6.173 Location: Liverpool NY\n",
      "ip:98.29.25.44 Location: Dayton OH\n"
     ]
    }
   ],
   "source": [
    "# write code here\n",
    "import requests\n",
    "import json\n",
    "\n",
    "def load_ip():\n",
    "    list=[]\n",
    "    with open (\"NYC2-IP-Addresses.txt\",'r') as f:\n",
    "        for line in f:\n",
    "            list.append(line.strip())\n",
    "            list.sort()\n",
    "    return list\n",
    "\n",
    "ip=load_ip()\n",
    "\n",
    "url='http://freegeoip.net/json/'\n",
    "for i in ip:\n",
    "    response = requests.get(url + i)\n",
    "    geoip=response.json()\n",
    "    LOCATION=geoip['city']\n",
    "    STATE=geoip['region_code']\n",
    "\n",
    "    print(\"ip:%s Location: %s %s\"%(i,LOCATION,STATE))\n"
   ]
  },
  {
   "cell_type": "code",
   "execution_count": 27,
   "metadata": {
    "collapsed": false
   },
   "outputs": [
    {
     "name": "stdout",
     "output_type": "stream",
     "text": [
      "ip:<function load_ip at 0x1066caa60> Location: New York NY\n",
      "ip:<function load_ip at 0x1066caa60> Location: Green Bay WI\n",
      "ip:<function load_ip at 0x1066caa60> Location: Cambridge MA\n",
      "ip:<function load_ip at 0x1066caa60> Location: Cheyenne WY\n",
      "ip:<function load_ip at 0x1066caa60> Location: San Jose CA\n",
      "ip:<function load_ip at 0x1066caa60> Location: Phoenix AZ\n",
      "ip:<function load_ip at 0x1066caa60> Location: Phoenix AZ\n",
      "ip:<function load_ip at 0x1066caa60> Location: Los Angeles CA\n",
      "ip:<function load_ip at 0x1066caa60> Location: Iselin NJ\n",
      "ip:<function load_ip at 0x1066caa60> Location: Chicago IL\n",
      "ip:<function load_ip at 0x1066caa60> Location: Orem UT\n",
      "ip:<function load_ip at 0x1066caa60> Location: Matawan NJ\n",
      "ip:<function load_ip at 0x1066caa60> Location: Darien CT\n",
      "ip:<function load_ip at 0x1066caa60> Location: Raleigh NC\n",
      "ip:<function load_ip at 0x1066caa60> Location: Elmont NY\n",
      "ip:<function load_ip at 0x1066caa60> Location: Auburn NY\n",
      "ip:<function load_ip at 0x1066caa60> Location: Liverpool NY\n",
      "ip:<function load_ip at 0x1066caa60> Location: Dayton OH\n"
     ]
    }
   ],
   "source": []
  },
  {
   "cell_type": "code",
   "execution_count": null,
   "metadata": {
    "collapsed": true
   },
   "outputs": [],
   "source": []
  }
 ],
 "metadata": {
  "anaconda-cloud": {},
  "kernelspec": {
   "display_name": "Python 3",
   "language": "python",
   "name": "python3"
  },
  "language_info": {
   "codemirror_mode": {
    "name": "ipython",
    "version": 3
   },
   "file_extension": ".py",
   "mimetype": "text/x-python",
   "name": "python",
   "nbconvert_exporter": "python",
   "pygments_lexer": "ipython3",
   "version": "3.5.2"
  }
 },
 "nbformat": 4,
 "nbformat_minor": 0
}
