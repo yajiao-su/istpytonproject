{
 "cells": [
  {
   "cell_type": "code",
   "execution_count": null,
   "metadata": {
    "collapsed": false
   },
   "outputs": [],
   "source": [
    "import pandas as pd\n",
    "import requests\n",
    "from bs4 import BeautifulSoup\n",
    "\n",
    "def get_html(url):\n",
    "    url='http://recreationservices.syr.edu/Programs/sports-clubs.html'\n",
    "    response = requests.get(url)\n",
    "    html = response.text \n",
    "    return html\n",
    "\n",
    "\n",
    "def extractData(html,contact_list):\n",
    "    contact_list=[]\n",
    "    contact_header=soup.select(\"div>a>h3\")\n",
    "    for i in range(len(ctl)):\n",
    "        contact=ctl[i]\n",
    "        contact_name=meal.select"
   ]
  },
  {
   "cell_type": "code",
   "execution_count": null,
   "metadata": {
    "collapsed": true
   },
   "outputs": [],
   "source": [
    "def extractData(html, menu_selection):\n",
    "    menu_items = []\n",
    "    bld = soup.select(\"table[bordercolorlight=black] > tr  > td\")\n",
    "    for i in range(len(bld)):\n",
    "        meal = bld[i]\n",
    "        meal_name = meal.select(\"div.shortmenumeals\")[0].text.lower()\n",
    "        if meal_name == menu_selection:\n",
    "            for item in meal.select(\"a[name=Recipe_Desc]\"):\n",
    "                menu_items.append (item.text)\n",
    "    return menu_items"
   ]
  },
  {
   "cell_type": "code",
   "execution_count": 9,
   "metadata": {
    "collapsed": true
   },
   "outputs": [],
   "source": [
    "### club_list trial \n",
    "import pandas as pd\n",
    "import requests\n",
    "from bs4 import BeautifulSoup\n",
    "\n",
    "def get_html(url):\n",
    "    url=''\n",
    "    response = requests.get(url)\n",
    "    html = response.text \n",
    "    return html\n",
    "\n",
    "url = 'http://recreationservices.syr.edu/Programs/sports-clubs.html'\n",
    "get_html(url)\n",
    "soup = BeautifulSoup(get_html(url),'lxml')\n",
    "\n",
    "club_header = soup.select('div.contentsection > p > strong')\n",
    "#club_content = soup.select('div.contentsection > p')\n",
    "club_hyperhead = soup.select('div.contentsection > p > a[href] > strong') ## len 11\n",
    "club_hyperhead2 = soup.select('div.contentsection > a[href] > strong') ## len 2\n",
    "club_list = []"
   ]
  },
  {
   "cell_type": "code",
   "execution_count": null,
   "metadata": {
    "collapsed": false
   },
   "outputs": [],
   "source": [
    "\n",
    "\n",
    "for row in club_header:\n",
    "    club_list.append(row)\n",
    "club_list.pop(4)\n",
    "club_list.pop(11) \n",
    "\n",
    "## add lists to club_list\n",
    "def club_listings():\n",
    "# club_hyperhead3 = soup.select('div.contentsection > p > strong > a[href]') ## links only fix later\n",
    "    for item in club_hyperhead:\n",
    "        club_list.append(item)\n",
    "    for item in club_hyperhead2:\n",
    "        club_list.append(item)\n",
    "\n",
    "    clubnum = 2\n",
    "    for club in club_list:\n",
    "        clubnum +=1\n",
    "        print(clubnum,':',club)\n",
    "        ### need to sort it alphabetically and strip tags \n",
    "\n",
    "    return(club_list)"
   ]
  },
  {
   "cell_type": "code",
   "execution_count": null,
   "metadata": {
    "collapsed": false
   },
   "outputs": [
    {
     "name": "stdout",
     "output_type": "stream",
     "text": [
      "SYRACUSE SPORTS CLUB DESCRIPTIONS\n",
      "3 : <strong>Aikido</strong>\n",
      "4 : <strong>Badminton</strong>\n",
      "5 : <strong>Basketball:</strong>\n",
      "6 : <strong>Bowling</strong>\n",
      "7 : <strong>Break Dancing</strong>\n",
      "8 : <strong>Cricket</strong>\n",
      "9 : <strong>Equestrian</strong>\n",
      "10 : <strong>Field Hockey</strong>\n",
      "11 : <strong>Ice Hockey:</strong>\n",
      "12 : <strong>Judo</strong>\n",
      "13 : <strong>Lacrosse</strong>\n",
      "14 : <strong>Running</strong>\n",
      "15 : <strong>Shotokan</strong>\n",
      "16 : <strong>Soccer</strong>\n",
      "17 : <strong>Swing</strong>\n",
      "18 : <strong>Tennis</strong>\n",
      "19 : <strong>Ultimate Frisbee</strong>\n",
      "20 : <strong>Volleyball</strong>\n",
      "21 : <strong>Water Polo</strong>\n",
      "22 : <strong>Wrestling</strong>\n",
      "23 : <strong>Ballroom Dance</strong>\n",
      "24 : <strong>Cycling</strong>\n",
      "25 : <strong>Golf</strong>\n",
      "26 : <strong>Gymnastics</strong>\n",
      "27 : <strong>Kendo</strong>\n",
      "28 : <strong>Roller Hockey</strong>\n",
      "29 : <strong>Sailing</strong>\n",
      "30 : <strong>Ski Racing</strong>\n",
      "31 : <strong>Softball</strong>\n",
      "32 : <strong>Swimming</strong>\n",
      "33 : <strong>Triathlon</strong>\n",
      "34 : <strong>Baseball</strong>\n",
      "35 : <strong>Outing Club</strong>\n"
     ]
    }
   ],
   "source": [
    "\n",
    "\n",
    "####### MAIN PROGRAM ############\n",
    "print('SYRACUSE SPORTS CLUB DESCRIPTIONS')\n",
    "\n",
    "club_listings()\n",
    "while True:\n",
    "    try:\n",
    "        num =(input('Select a numeric option from the list above (3-35):')) #club number selector ##37 options 3-36 are selectable -- total of 33\n",
    "        if num.upper() == 'QUIT':\n",
    "            print('You have exited the program. Have a good day!')\n",
    "            break   \n",
    "\n",
    "        club_content = soup.select('div.contentsection > p')    \n",
    "        i_choose_you = club_content[int(num)].text \n",
    "        print(i_choose_you) \n",
    "        #### make it so that the numbered choices picked arn't permanently listed \n",
    "    except IndexError:\n",
    "        print('Not within options (3-35) Please try again!')\n",
    "    except ValueError:\n",
    "        print(\"Please enter number properly (i.e. '1,2,3')\")"
   ]
  },
  {
   "cell_type": "code",
   "execution_count": null,
   "metadata": {
    "collapsed": true
   },
   "outputs": [],
   "source": []
  }
 ],
 "metadata": {
  "kernelspec": {
   "display_name": "Python 3",
   "language": "python",
   "name": "python3"
  },
  "language_info": {
   "codemirror_mode": {
    "name": "ipython",
    "version": 3
   },
   "file_extension": ".py",
   "mimetype": "text/x-python",
   "name": "python",
   "nbconvert_exporter": "python",
   "pygments_lexer": "ipython3",
   "version": "3.5.2"
  }
 },
 "nbformat": 4,
 "nbformat_minor": 2
}
