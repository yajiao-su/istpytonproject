{
 "cells": [
  {
   "cell_type": "code",
   "execution_count": 27,
   "metadata": {
    "collapsed": false
   },
   "outputs": [
    {
     "ename": "SyntaxError",
     "evalue": "invalid syntax (<ipython-input-27-4d6192b22354>, line 29)",
     "output_type": "error",
     "traceback": [
      "\u001b[0;36m  File \u001b[0;32m\"<ipython-input-27-4d6192b22354>\"\u001b[0;36m, line \u001b[0;32m29\u001b[0m\n\u001b[0;31m    else:\u001b[0m\n\u001b[0m       ^\u001b[0m\n\u001b[0;31mSyntaxError\u001b[0m\u001b[0;31m:\u001b[0m invalid syntax\n"
     ]
    }
   ],
   "source": [
    "filename='sports.txt'\n",
    "name=[]\n",
    "selection=['AIKIDO','BADMINTON','BALLROOM DANCE','BASEBALL','(M)BASKETBALL','(W)BASKETBALL','BOWLING','BOXING','BREAKDANCE-FREESTYLE','CRICKET','CYCLING','ENGLISH EQUESTRIAN',\n",
    "          'WESTERN EQUESTRIAN','FENCING','FIELD HOCKEY','SYNCHRONIZED FIGURE SKATING','GOLF','(M)GYMNASTICS','(W)GYMNASTICS',\n",
    "          '(M)ICE HOCKEY','(W)ICE HOCKEY','JUDO','KENDO','(M)LACROSSE','(W)LACROSSE','OUTING CLUB','QUIDDITCH','ROLLER HOCKEY',\n",
    "          '(M)RUGBY','(W)RUGBY','RUNNING','SAILING','SHOTOKAN','SKI RACING','(M) SOCCER','(W)SOCCER','SOFTBALL','SWIMMING','SWING',\n",
    "          'TABLE TENNIS','TENNIS','TRIATHLON','(M)ULTIMATE FRISBEE','(W)ULTIMATE FRISBEE','(M)VOLLEYBALL','(W)VOLLEYBALL','(M)WATERPOLO',\n",
    "          '(W)WATERPOLO','WRESTING']\n",
    "def read_names():\n",
    "    name=[]\n",
    "    with open(filename,'r') as f:\n",
    "        for line in f:\n",
    "            name.append(line.strip().replace(\",\", \" \"))\n",
    "        name.sort()\n",
    "        return name\n",
    "\n",
    "for i in enumerate(read_names()):\n",
    "    print(i)\n",
    "    if sports_input in i:\n",
    "        print(i)\n",
    "sports_input=str(input(\"enter the key word\"))\n",
    "sports_input=sports_input.lower()\n",
    "if sports_input in i:\n",
    "    print(i)\n",
    "    sports_list=name.find(sports_input)\n",
    "    print(sports_list)\n",
    "else:\n",
    "    print(\"we don't have it here\")\n",
    "        \n",
    "    \n",
    "\n",
    "    "
   ]
  },
  {
   "cell_type": "code",
   "execution_count": 11,
   "metadata": {
    "collapsed": false
   },
   "outputs": [
    {
     "name": "stdout",
     "output_type": "stream",
     "text": [
      "\n",
      "\n",
      "(0, '')\n",
      "(1, '(M) SOCCER Eric Bergersen suclubsoccer1870@gmail.com')\n",
      "(2, '(M)BASKETBALL Charles Garrett cuseclubball@gmail.com')\n",
      "(3, '(M)GYMNASTICS Matt Lobenhofer sumesgymnastics@gmail.com')\n",
      "(4, '(M)ICE HOCKEY Matt DiVietro suhockey@gmail.com')\n",
      "(5, '(M)LACROSSE Albert DiPasquale cuseclubacrosse3013@gmail.com')\n",
      "(6, '(M)RUGBY Ryan Sherry surfcpreside@gmail.com')\n",
      "(7, '(M)ULTIMATE FRISBEE Scott Slutsky dommcaptains@gmail.com')\n",
      "(8, '(M)VOLLEYBALL Thomas Duszkiewicz CuseMensVolleyball@gmail.com')\n",
      "(9, '(M)WATERPOLO Michael Ennis cusemenswaterpolo@gmail.com')\n",
      "(10, '(W)BASKETBALL Kaileen Spaulding suwclubbasketball@gmail.com')\n",
      "(11, '(W)GYMNASTICS Kelly O’Brien sugymnastics@gmail.com')\n",
      "(12, '(W)ICE HOCKEY Rachael Cambell suwomenshockey@gmail.com')\n",
      "(13, '(W)LACROSSE Amelai Stalknecht orangeclublas@gmail.com')\n",
      "(14, '(W)RUGBY Shannon Cellan suwomensrugbyfc@gmail.com')\n",
      "(15, '(W)SOCCER Rachael Becker suwomensclubsoccer@gmail.com')\n",
      "(16, '(W)ULTIMATE FRISBEE Amanda Piela foxforcecaptains@gmail.com')\n",
      "(17, '(W)VOLLEYBALL Jade Sparks syracusewomensclubvolleyball@gmail.com')\n",
      "(18, '(W)WATERPOLO Brittany Muller cusepolo@gmail.com')\n",
      "(19, 'AIKIDO Mellissa Gerwitz aikidoatsu@gmail.com')\n",
      "(20, 'BADMINTON Tony Shi subadminton@gmail.com')\n",
      "(21, 'BALLROOM DANCE Michael Senatore bdosyracuse@gmail.com')\n",
      "(22, 'BASEBALL Matt Neumann syracuseclubbaseball@gmail.com')\n",
      "(23, 'BOWLING Simon Weschler subc.syr@gmail.com')\n",
      "(24, 'BOXING Marcus Bentzen  boxingclubsu@gmail.com')\n",
      "(25, 'BREAKDANCE-FREESTYLE SQUAD Tuduo Danzeng su.breakdancers@gmail.com')\n",
      "(26, 'CRICKET Thushanth Pillai letsplaycricket.su@gmail.com')\n",
      "(27, 'CYCLING Amanda Tomasello sucyclingclub@gmail.com')\n",
      "(28, 'ENGLISH EQUESTRIAN Kathryn Krawczyk suenglishequestrian@gmail.com')\n",
      "(29, 'FENCING Aaron Hutchins syracusefencing@gmail.com')\n",
      "(30, 'FIELD HOCKEY Michael Dillon syracusehockey@gmail.com')\n",
      "(31, 'GOLF Michael Passalacqua mpassala@syr.edu')\n",
      "(32, 'JUDO Wyatt Suling syracusejudoclub@gmail.com')\n",
      "(33, 'KENDO David Wang syracusekendo@gmail.com')\n",
      "(34, 'OUTING CLUB Theresa O’Brien suoutingclub1935@gmail.com')\n",
      "(35, 'QUIDDITCH Jennifer Bideaus syracusequidditch@gmail.com')\n",
      "(36, 'ROLLER HOCKEY Ryan Dunn rarozenb@syr.edu')\n",
      "(37, 'RUNNING  Jacob Ferree syracuserunclub@gmail.com')\n",
      "(38, 'SAILING Alberto Rivera syracuse.sailing@gmail.com')\n",
      "(39, 'SHOTOKAN Alex Szuba SUShotokan@gmail.com')\n",
      "(40, 'SKI RACING Jared Balkind susrc01@gmail.com')\n",
      "(41, 'SOFTBALL Rachael Morgan Joe Amedro  su.softballclub@gmail.com')\n",
      "(42, 'SWIMMING Joe Amedro suclubswim@gmail.com')\n",
      "(43, 'SWING Joe Nasta suwingclub@gmail.com')\n",
      "(44, 'SYNCHRONIZED FIGURE SKATING Tori DeGrazio orangeexperience@gmail.com')\n",
      "(45, 'TABLE TENNIS Jason Zou SuTableTennisClub@gmail.com')\n",
      "(46, 'TENNIS Erin Moore  suclubtennis@gmail.com')\n",
      "(47, 'TRIATHLON Julia Jesse sutriclub@gmail.com')\n",
      "(48, 'WESTERN EQUESTRIAN Taylor Middleton SUEquestrian@gmail.com')\n",
      "(49, 'WRESTING Jeffrey Gould jegould@syr.edu')\n"
     ]
    }
   ],
   "source": [
    "file_name ='sports.txt'\n",
    "def read_names():\n",
    "    name=[]\n",
    "    with open(file_name,'r') as f:\n",
    "        for line in f:\n",
    "            name.append(line.strip().replace(\",\",\" \"))\n",
    "    name.sort()\n",
    "    return name\n",
    "for i in enumerate(read_names()):\n",
    "    print(i)\n",
    "sports_info=(\"enter the key word\")\n",
    "if sports_info\n"
   ]
  },
  {
   "cell_type": "code",
   "execution_count": null,
   "metadata": {
    "collapsed": true
   },
   "outputs": [],
   "source": []
  }
 ],
 "metadata": {
  "kernelspec": {
   "display_name": "Python 3",
   "language": "python",
   "name": "python3"
  },
  "language_info": {
   "codemirror_mode": {
    "name": "ipython",
    "version": 3
   },
   "file_extension": ".py",
   "mimetype": "text/x-python",
   "name": "python",
   "nbconvert_exporter": "python",
   "pygments_lexer": "ipython3",
   "version": "3.5.2"
  }
 },
 "nbformat": 4,
 "nbformat_minor": 2
}
