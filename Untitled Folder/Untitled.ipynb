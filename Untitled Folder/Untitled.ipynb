{
 "cells": [
  {
   "cell_type": "code",
   "execution_count": 1,
   "metadata": {
    "collapsed": false
   },
   "outputs": [],
   "source": [
    "import pandas as pd\n",
    "import numpy as np\n",
    "import warnings\n",
    "warnings.filterwarnings('ignore')"
   ]
  },
  {
   "cell_type": "code",
   "execution_count": 2,
   "metadata": {
    "collapsed": false
   },
   "outputs": [],
   "source": [
    "sports=pd.read_csv('sports.txt')\n",
    "sports.columns = ['sports','names','email','index']\n",
    "sports[:]\n",
    "selection=['AIKIDO','BADMINTON','BALLROOM DANCE','BASEBALL','(M)BASKETBALL','(W)BASKETBALL','BOWLING','BOXING','BREAKDANCE-FREESTYLE','CRICKET','CYCLING','ENGLISH EQUESTRIAN',\n",
    "          'WESTERN EQUESTRIAN','FENCING','FIELD HOCKEY','SYNCHRONIZED FIGURE SKATING','GOLF','(M)GYMNASTICS','(W)GYMNASTICS',\n",
    "          '(M)ICE HOCKEY','(W)ICE HOCKEY','JUDO','KENDO','(M)LACROSSE','(W)LACROSSE','OUTING CLUB','QUIDDITCH','ROLLER HOCKEY',\n",
    "          '(M)RUGBY','(W)RUGBY','RUNNING','SAILING','SHOTOKAN','SKI RACING','(M) SOCCER','(W)SOCCER','SOFTBALL','SWIMMING','SWING',\n",
    "          'TABLE TENNIS','TENNIS','TRIATHLON','(M)ULTIMATE FRISBEE','(W)ULTIMATE FRISBEE','(M)VOLLEYBALL','(W)VOLLEYBALL','(M)WATERPOLO',\n",
    "          '(W)WATERPOLO','WRESTING']\n"
   ]
  },
  {
   "cell_type": "code",
   "execution_count": null,
   "metadata": {
    "collapsed": true
   },
   "outputs": [],
   "source": [
    "sport_info=input(\"key\")\n",
    "sport_info=sport_info.lower()\n",
    "if selection.count(sport_info)==1:\n",
    "if sport_info=='BADMINTON':\n",
    "    Sports[(sports.index == 1)]\n",
    "     if sport_info='':\n",
    "    Sports[ (Sports.index==1)]\n",
    "        \n",
    "    print(\"wrong!\")\n",
    "#for i in sports():\n",
    "    #if sports['sports']:\n",
    "       # print(\"%s with a GPA of %.3f is on the Dean's list.\" % (sports['sports'], sports['name']) )\n",
    "\n",
    "\n"
   ]
  },
  {
   "cell_type": "code",
   "execution_count": 9,
   "metadata": {
    "collapsed": false
   },
   "outputs": [
    {
     "name": "stdout",
     "output_type": "stream",
     "text": [
      "sports name email\n"
     ]
    }
   ],
   "source": [
    "filename='sports.txt'\n",
    "name=[]\n",
    "def read_names():\n",
    "    name=[]\n",
    "    with open(filename,'r') as f:\n",
    "        for line in f:\n",
    "            name.append(line.strip().replace(\",\", \" \"))\n",
    "            name.sort()\n",
    "            return name\n",
    "\n",
    "for i in read_names():\n",
    "    print(i)\n",
    "    "
   ]
  },
  {
   "cell_type": "code",
   "execution_count": null,
   "metadata": {
    "collapsed": true
   },
   "outputs": [],
   "source": [
    "selection=['AIKIDO','BADMINTON','BALLROOM DANCE','BASEBALL','(M)BASKETBALL','(W)BASKETBALL','BOWLING','BOXING','BREAKDANCE-FREESTYLE','CRICKET','CYCLING','ENGLISH EQUESTRIAN',\n",
    "         # 'WESTERN EQUESTRIAN','FENCING','FIELD HOCKEY','SYNCHRONIZED FIGURE SKATING','GOLF','(M)GYMNASTICS','(W)GYMNASTICS',\n",
    "          #'(M)ICE HOCKEY','(W)ICE HOCKEY','JUDO','KENDO','(M)LACROSSE','(W)LACROSSE','OUTING CLUB','QUIDDITCH','ROLLER HOCKEY',\n",
    "          #'(M)RUGBY','(W)RUGBY','RUNNING','SAILING','SHOTOKAN','SKI RACING','(M) SOCCER','(W)SOCCER','SOFTBALL','SWIMMING','SWING',\n",
    "        #'TABLE TENNIS','TENNIS','TRIATHLON','(M)ULTIMATE FRISBEE','(W)ULTIMATE FRISBEE','(M)VOLLEYBALL','(W)VOLLEYBALL','(M)WATERPOLO',\n",
    "          #'(W)WATERPOLO','WRESTING']\n",
    "sport_info=input(\"key\")\n",
    "sport_info=sport_info.lower()\n",
    "if selection.count(sport_info)==1:\n",
    "    option=input(\"enter yes for more info\")\n",
    "    \n",
    "else:\n",
    "    print(\"wrong!\")\n",
    "for i in sports():\n",
    "    #if sports['sports']:\n",
    "        print(\"%s with a GPA of %.3f is on the Dean's list.\" % (sports['sports'], sports['name']) )\n",
    "\n"
   ]
  },
  {
   "cell_type": "code",
   "execution_count": null,
   "metadata": {
    "collapsed": true
   },
   "outputs": [],
   "source": [
    "selection=['AIKIDO','BADMINTON','BALLROOM DANCE','BASEBALL','(M)BASKETBALL','(W)BASKETBALL','BOWLING','BOXING','BREAKDANCE-FREESTYLE','CRICKET','CYCLING','ENGLISH EQUESTRIAN',\n",
    "          'WESTERN EQUESTRIAN','FENCING','FIELD HOCKEY','SYNCHRONIZED FIGURE SKATING','GOLF','(M)GYMNASTICS','(W)GYMNASTICS',\n",
    "          '(M)ICE HOCKEY','(W)ICE HOCKEY','JUDO','KENDO','(M)LACROSSE','(W)LACROSSE','OUTING CLUB','QUIDDITCH','ROLLER HOCKEY',\n",
    "          '(M)RUGBY','(W)RUGBY','RUNNING','SAILING','SHOTOKAN','SKI RACING','(M) SOCCER','(W)SOCCER','SOFTBALL','SWIMMING','SWING',\n",
    "          'TABLE TENNIS','TENNIS','TRIATHLON','(M)ULTIMATE FRISBEE','(W)ULTIMATE FRISBEE','(M)VOLLEYBALL','(W)VOLLEYBALL','(M)WATERPOLO',\n",
    "          '(W)WATERPOLO','WRESTING']\n",
    "sport_info=input(\"key\")\n",
    "sport_info=sport_info.lower()\n",
    "if selection.count(sport_info)==1:\n",
    "    option=input(\"enter yes for more info\")\n",
    "    for  in sports ():\n",
    "    if Sports\n",
    "        print(\"%s with a GPA of %.3f is on the Dean's list.\" % (student['Name'], student['GPA']) )\n",
    "\n",
    "else:\n",
    "    print(\"wrong!\")\n",
    "for i in sports():\n",
    "    #if sports['sports']:\n",
    "        print(\"%s with a GPA of %.3f is on the Dean's list.\" % (sports['sports'], sports['name']) )\n",
    "\n",
    "\n",
    "\n"
   ]
  }
 ],
 "metadata": {
  "kernelspec": {
   "display_name": "Python 3",
   "language": "python",
   "name": "python3"
  },
  "language_info": {
   "codemirror_mode": {
    "name": "ipython",
    "version": 3
   },
   "file_extension": ".py",
   "mimetype": "text/x-python",
   "name": "python",
   "nbconvert_exporter": "python",
   "pygments_lexer": "ipython3",
   "version": "3.5.2"
  }
 },
 "nbformat": 4,
 "nbformat_minor": 2
}
